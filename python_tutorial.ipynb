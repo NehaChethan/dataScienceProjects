{
  "nbformat": 4,
  "nbformat_minor": 0,
  "metadata": {
    "colab": {
      "provenance": [],
      "include_colab_link": true
    },
    "kernelspec": {
      "name": "python3",
      "display_name": "Python 3"
    },
    "language_info": {
      "name": "python"
    }
  },
  "cells": [
    {
      "cell_type": "markdown",
      "metadata": {
        "id": "view-in-github",
        "colab_type": "text"
      },
      "source": [
        "<a href=\"https://colab.research.google.com/github/NehaChethan/dataScienceProjects/blob/main/python_tutorial.ipynb\" target=\"_parent\"><img src=\"https://colab.research.google.com/assets/colab-badge.svg\" alt=\"Open In Colab\"/></a>"
      ]
    },
    {
      "cell_type": "markdown",
      "source": [
        "https://www.youtube.com/watch?v=yGN28LY5VuA&t=403s"
      ],
      "metadata": {
        "id": "Ha7VvVKp2S1i"
      }
    },
    {
      "cell_type": "code",
      "execution_count": 1,
      "metadata": {
        "colab": {
          "base_uri": "https://localhost:8080/"
        },
        "id": "0IPZuu_HQx7Q",
        "outputId": "427c3647-1d43-497e-a652-724a6cdf7bc0"
      },
      "outputs": [
        {
          "output_type": "stream",
          "name": "stdout",
          "text": [
            "hello 123\n"
          ]
        }
      ],
      "source": [
        "print(\"hello 123\")"
      ]
    },
    {
      "cell_type": "code",
      "source": [
        "''' shortcuts :\n",
        " # 1. a : add a cell above\n",
        " # 2. b : add a cell above\n",
        " # 3. m : conver the cell to markdown\n",
        " # 4. y: convert cell to code\n",
        " # 5. dd: delete cell\n",
        " # 6. shift + enter is used to run the cell\n",
        " '''\n",
        "#Using triple-quoted string literals: Triple single quotes (''') or triple double quotes (\"\"\") can be used to enclose a multi-line string. If this string is not assigned to a variable or used in an expression, the Python interpreter will ignore it, effectively treating it as a multi-line comment."
      ],
      "metadata": {
        "colab": {
          "base_uri": "https://localhost:8080/",
          "height": 53
        },
        "id": "rodYyurXSYti",
        "outputId": "5db681e6-cf5d-47b0-9e71-dde58b3ba047"
      },
      "execution_count": null,
      "outputs": [
        {
          "output_type": "execute_result",
          "data": {
            "text/plain": [
              "' shortcuts :\\n # 1. a : add a cell above\\n # 2. b : add a cell above\\n # 3. m : conver the cell to markdown\\n # 4. y: convert cell to code\\n # 5. dd: delete cell\\n # 6. shift + enter is used to run the cell\\n '"
            ],
            "application/vnd.google.colaboratory.intrinsic+json": {
              "type": "string"
            }
          },
          "metadata": {},
          "execution_count": 2
        }
      ]
    },
    {
      "cell_type": "code",
      "source": [
        "'''\n",
        " 1. h1 heading: #\n",
        " 2. h2 heading: ##\n",
        "'''"
      ],
      "metadata": {
        "colab": {
          "base_uri": "https://localhost:8080/",
          "height": 36
        },
        "id": "SF_lyrHPScNb",
        "outputId": "ea120a93-7191-4e46-a13f-f3943f931502"
      },
      "execution_count": null,
      "outputs": [
        {
          "output_type": "execute_result",
          "data": {
            "text/plain": [
              "'\\n 1. h1 heading: #\\n 2. h2 heading: ##\\n'"
            ],
            "application/vnd.google.colaboratory.intrinsic+json": {
              "type": "string"
            }
          },
          "metadata": {},
          "execution_count": 3
        }
      ]
    },
    {
      "cell_type": "code",
      "source": [
        "# To get a documentation of a particular function use '??'\n",
        "print??"
      ],
      "metadata": {
        "id": "Vs_knVD6Sezh"
      },
      "execution_count": 2,
      "outputs": []
    },
    {
      "cell_type": "markdown",
      "source": [],
      "metadata": {
        "id": "bcrKZ0QNVr75"
      }
    },
    {
      "cell_type": "markdown",
      "source": [
        "# **1. Variables**"
      ],
      "metadata": {
        "id": "5JGVlVF9VtsR"
      }
    },
    {
      "cell_type": "code",
      "source": [
        "test = 'test'"
      ],
      "metadata": {
        "id": "ygbZIOtAVx2w"
      },
      "execution_count": 3,
      "outputs": []
    },
    {
      "cell_type": "markdown",
      "source": [
        "***Rules for writing a variable***\n",
        "\n",
        "1.   Variable names can only contain letters, digits and underscores (_).\n",
        "2.   A variable name cannot start with a digit.\n",
        "3.   Variable names are case-sensitive (myVar and myvar are different).\n",
        "4.   Avoid using Python keywords (e.g., if, else, for) as variable names."
      ],
      "metadata": {
        "id": "lwEFK-S-q-sF"
      }
    },
    {
      "cell_type": "markdown",
      "source": [
        "# **2. Check data type**"
      ],
      "metadata": {
        "id": "2nSlbBacWNMA"
      }
    },
    {
      "cell_type": "code",
      "source": [
        "type(test)"
      ],
      "metadata": {
        "colab": {
          "base_uri": "https://localhost:8080/"
        },
        "id": "SZWOxmxQWYsR",
        "outputId": "4e2bbac6-2cf1-476b-f73b-4a2beec864ff"
      },
      "execution_count": 4,
      "outputs": [
        {
          "output_type": "execute_result",
          "data": {
            "text/plain": [
              "str"
            ]
          },
          "metadata": {},
          "execution_count": 4
        }
      ]
    },
    {
      "cell_type": "markdown",
      "source": [
        "# **3. Data Types**"
      ],
      "metadata": {
        "id": "zInikCsqXZpr"
      }
    },
    {
      "cell_type": "code",
      "source": [
        "string_variable = 'string'\n",
        "integer_variable = 123\n",
        "float_variable = 12.31\n",
        "# boolean variable\n",
        "true_variable = True\n",
        "false_variable = False\n"
      ],
      "metadata": {
        "id": "1Q62ExutXMU4"
      },
      "execution_count": 5,
      "outputs": []
    },
    {
      "cell_type": "markdown",
      "source": [
        "# **4. Type Casting**"
      ],
      "metadata": {
        "id": "JKUGx5YgGfQe"
      }
    },
    {
      "cell_type": "code",
      "source": [
        "type_casting_variable_str = str(123)\n",
        "print(type(type_casting_variable_str))\n",
        "\n",
        "type_casting_variable_int = int('1234')\n",
        "print(type(type_casting_variable_int))\n",
        "\n",
        "type_casting_variable_float = float(123)\n",
        "print(type(type_casting_variable_float))\n",
        "\n",
        "type_casting_variable_boolean = bool(0)\n",
        "print(type(type_casting_variable_boolean))"
      ],
      "metadata": {
        "colab": {
          "base_uri": "https://localhost:8080/"
        },
        "id": "nJwvxlAkaEQu",
        "outputId": "a171b710-116e-49c3-dd51-d03d2d38ce68"
      },
      "execution_count": 6,
      "outputs": [
        {
          "output_type": "stream",
          "name": "stdout",
          "text": [
            "<class 'str'>\n",
            "<class 'int'>\n",
            "<class 'float'>\n",
            "<class 'bool'>\n"
          ]
        }
      ]
    },
    {
      "cell_type": "code",
      "source": [
        "# a = 123 + 'str' we cannot add operands of 2 different data types.\n",
        "# c = 'str' + True"
      ],
      "metadata": {
        "id": "NIc2610MrceQ"
      },
      "execution_count": null,
      "outputs": []
    },
    {
      "cell_type": "code",
      "source": [
        "b = 123 + 123.0\n",
        "print ( b )"
      ],
      "metadata": {
        "id": "Nfow1UOBsDq7",
        "outputId": "e761e54e-c865-4680-c5fa-ad7f445c8f32",
        "colab": {
          "base_uri": "https://localhost:8080/"
        }
      },
      "execution_count": 7,
      "outputs": [
        {
          "output_type": "stream",
          "name": "stdout",
          "text": [
            "246.0\n"
          ]
        }
      ]
    },
    {
      "cell_type": "markdown",
      "source": [
        "# **5. Data Types**"
      ],
      "metadata": {
        "id": "Uszik3twGv3g"
      }
    },
    {
      "cell_type": "markdown",
      "source": [
        "## **a. List**"
      ],
      "metadata": {
        "id": "Ec1A9PTOeC7W"
      }
    },
    {
      "cell_type": "code",
      "source": [
        "a = [10,'string',True,[],10.2]"
      ],
      "metadata": {
        "id": "TUQULwuXd5eN"
      },
      "execution_count": 8,
      "outputs": []
    },
    {
      "cell_type": "code",
      "source": [
        "#slicing  listname[start:stop]\n",
        "print(a[0:2]) # position 2 is not included stop is not included\n",
        "print(a[1:-1])\n",
        "print(a[1:])\n",
        "print(a[:-1])"
      ],
      "metadata": {
        "id": "Fpq9GcPCoMTD",
        "outputId": "2734859d-201b-4f00-f420-08f4bdeb2fab",
        "colab": {
          "base_uri": "https://localhost:8080/"
        }
      },
      "execution_count": 9,
      "outputs": [
        {
          "output_type": "stream",
          "name": "stdout",
          "text": [
            "[10, 'string']\n",
            "['string', True, []]\n",
            "['string', True, [], 10.2]\n",
            "[10, 'string', True, []]\n"
          ]
        }
      ]
    },
    {
      "cell_type": "code",
      "source": [
        "a.append('hello')\n",
        "print(a)\n",
        "b = ['hi','hello','testt']\n",
        "print(a+b)\n",
        "c = [a,b]\n",
        "print(c)"
      ],
      "metadata": {
        "id": "HwD3A3JwqZ6k",
        "outputId": "4135b8aa-24e7-43c5-be4a-40b24c292249",
        "colab": {
          "base_uri": "https://localhost:8080/"
        }
      },
      "execution_count": 10,
      "outputs": [
        {
          "output_type": "stream",
          "name": "stdout",
          "text": [
            "[10, 'string', True, [], 10.2, 'hello']\n",
            "[10, 'string', True, [], 10.2, 'hello', 'hi', 'hello', 'testt']\n",
            "[[10, 'string', True, [], 10.2, 'hello'], ['hi', 'hello', 'testt']]\n"
          ]
        }
      ]
    },
    {
      "cell_type": "code",
      "source": [
        "a.insert(0,'testing')\n",
        "print(a)"
      ],
      "metadata": {
        "id": "j9FfZdUuqjyh",
        "outputId": "35cdd69f-6dbc-42df-dad1-a7bc6018e91c",
        "colab": {
          "base_uri": "https://localhost:8080/"
        }
      },
      "execution_count": 11,
      "outputs": [
        {
          "output_type": "stream",
          "name": "stdout",
          "text": [
            "['testing', 10, 'string', True, [], 10.2, 'hello']\n"
          ]
        }
      ]
    },
    {
      "cell_type": "code",
      "source": [
        "b.remove('hi')\n",
        "print(b)\n",
        "b.pop(-1)\n",
        "print(b)"
      ],
      "metadata": {
        "id": "IF9I7ShYsFxc",
        "outputId": "662fa668-5e01-401f-a95e-4c214c1e5ea3",
        "colab": {
          "base_uri": "https://localhost:8080/"
        }
      },
      "execution_count": 12,
      "outputs": [
        {
          "output_type": "stream",
          "name": "stdout",
          "text": [
            "['hello', 'testt']\n",
            "['hello']\n"
          ]
        }
      ]
    },
    {
      "cell_type": "code",
      "source": [
        "a[0] = 20"
      ],
      "metadata": {
        "id": "NbeyCxOJfp9O"
      },
      "execution_count": 13,
      "outputs": []
    },
    {
      "cell_type": "code",
      "source": [
        "print( a )"
      ],
      "metadata": {
        "colab": {
          "base_uri": "https://localhost:8080/"
        },
        "id": "vag7vi-kgfnT",
        "outputId": "b07437e7-3c3d-4fe8-a65f-04b54ce6d630"
      },
      "execution_count": 14,
      "outputs": [
        {
          "output_type": "stream",
          "name": "stdout",
          "text": [
            "[20, 10, 'string', True, [], 10.2, 'hello']\n"
          ]
        }
      ]
    },
    {
      "cell_type": "code",
      "source": [
        "e = [1,0,3,5,2,8,6]\n",
        "e.sort()\n",
        "print(e)\n",
        "e.sort(reverse=True)\n",
        "print(e)"
      ],
      "metadata": {
        "id": "FwPw1ootzpNg",
        "outputId": "df90de90-9422-4899-e06b-3cbe22c67f05",
        "colab": {
          "base_uri": "https://localhost:8080/"
        }
      },
      "execution_count": 15,
      "outputs": [
        {
          "output_type": "stream",
          "name": "stdout",
          "text": [
            "[0, 1, 2, 3, 5, 6, 8]\n",
            "[8, 6, 5, 3, 2, 1, 0]\n"
          ]
        }
      ]
    },
    {
      "cell_type": "code",
      "source": [
        "#creating a copy of the list\n",
        "f = [1,2,3,4,5,6,7,8]\n",
        "new_list = f[:]\n",
        "print(new_list)\n",
        "\n",
        "new_list[3] = 10\n",
        "print(new_list)\n",
        "print(f)\n",
        "\n",
        "new_list_copy = f.copy()\n",
        "new_list_copy[3] = 11\n",
        "print(new_list_copy)\n",
        "print(f)\n",
        "\n",
        "new_list_copy_1 = f\n",
        "new_list_copy_1[3] = 12\n",
        "print(new_list_copy_1)\n",
        "print(f)"
      ],
      "metadata": {
        "id": "GutWHsrm0lsm",
        "outputId": "a4f26ffc-6556-4208-dd04-4e2c591e25e6",
        "colab": {
          "base_uri": "https://localhost:8080/"
        }
      },
      "execution_count": 16,
      "outputs": [
        {
          "output_type": "stream",
          "name": "stdout",
          "text": [
            "[1, 2, 3, 4, 5, 6, 7, 8]\n",
            "[1, 2, 3, 10, 5, 6, 7, 8]\n",
            "[1, 2, 3, 4, 5, 6, 7, 8]\n",
            "[1, 2, 3, 11, 5, 6, 7, 8]\n",
            "[1, 2, 3, 4, 5, 6, 7, 8]\n",
            "[1, 2, 3, 12, 5, 6, 7, 8]\n",
            "[1, 2, 3, 12, 5, 6, 7, 8]\n"
          ]
        }
      ]
    },
    {
      "cell_type": "markdown",
      "source": [
        "## **b. Tuple**\n",
        " Tuple is similar to list tuple is enclosed with '()' the difference between tuple and list is tuple is immutable that is it cannot be changed."
      ],
      "metadata": {
        "id": "9CsjEMbUepKn"
      }
    },
    {
      "cell_type": "code",
      "source": [
        "tuple_variable = (10,'string',True,[],10.2)\n",
        "print(tuple_variable)"
      ],
      "metadata": {
        "colab": {
          "base_uri": "https://localhost:8080/"
        },
        "id": "57Web5jOeoTr",
        "outputId": "856fa037-2b1e-41f8-cade-9123d2163a74"
      },
      "execution_count": 17,
      "outputs": [
        {
          "output_type": "stream",
          "name": "stdout",
          "text": [
            "(10, 'string', True, [], 10.2)\n"
          ]
        }
      ]
    },
    {
      "cell_type": "code",
      "source": [
        "tuple_variable[0] = 20"
      ],
      "metadata": {
        "colab": {
          "base_uri": "https://localhost:8080/",
          "height": 141
        },
        "id": "wyLu-c34mGBC",
        "outputId": "05b0a964-26ed-4b27-fa00-21a523ac3d8f"
      },
      "execution_count": 18,
      "outputs": [
        {
          "output_type": "error",
          "ename": "TypeError",
          "evalue": "'tuple' object does not support item assignment",
          "traceback": [
            "\u001b[0;31m---------------------------------------------------------------------------\u001b[0m",
            "\u001b[0;31mTypeError\u001b[0m                                 Traceback (most recent call last)",
            "\u001b[0;32m/tmp/ipython-input-2167760116.py\u001b[0m in \u001b[0;36m<cell line: 0>\u001b[0;34m()\u001b[0m\n\u001b[0;32m----> 1\u001b[0;31m \u001b[0mtuple_variable\u001b[0m\u001b[0;34m[\u001b[0m\u001b[0;36m0\u001b[0m\u001b[0;34m]\u001b[0m \u001b[0;34m=\u001b[0m \u001b[0;36m20\u001b[0m\u001b[0;34m\u001b[0m\u001b[0;34m\u001b[0m\u001b[0m\n\u001b[0m",
            "\u001b[0;31mTypeError\u001b[0m: 'tuple' object does not support item assignment"
          ]
        }
      ]
    },
    {
      "cell_type": "markdown",
      "source": [
        "if you want to modify a tuple convert it to list change the values and convert it back to a tuple"
      ],
      "metadata": {
        "id": "Tjamsyr6mb0A"
      }
    },
    {
      "cell_type": "code",
      "source": [
        "tuple_example = (1,2,3,4,5)\n",
        "converted_to_list = list(tuple_example)\n",
        "converted_to_list[0] = 6\n",
        "converted_to_tuple = tuple(converted_to_list)\n",
        "print( converted_to_tuple )"
      ],
      "metadata": {
        "colab": {
          "base_uri": "https://localhost:8080/"
        },
        "id": "b5YdfkuZmljE",
        "outputId": "d2302560-a485-411c-a698-de9247433ffa"
      },
      "execution_count": 19,
      "outputs": [
        {
          "output_type": "stream",
          "name": "stdout",
          "text": [
            "(6, 2, 3, 4, 5)\n"
          ]
        }
      ]
    },
    {
      "cell_type": "markdown",
      "source": [
        "## **c. Set**"
      ],
      "metadata": {
        "id": "GecvAYr1neuO"
      }
    },
    {
      "cell_type": "code",
      "source": [
        "set_variable = {10,'string',True,[],10.2}\n",
        "# here error is thrown because of the empty list"
      ],
      "metadata": {
        "colab": {
          "base_uri": "https://localhost:8080/",
          "height": 158
        },
        "id": "P2cRUI6fnkkG",
        "outputId": "fd1edb24-7fe3-46dd-e9a2-d4215e1b19a9"
      },
      "execution_count": 24,
      "outputs": [
        {
          "output_type": "error",
          "ename": "TypeError",
          "evalue": "unhashable type: 'list'",
          "traceback": [
            "\u001b[0;31m---------------------------------------------------------------------------\u001b[0m",
            "\u001b[0;31mTypeError\u001b[0m                                 Traceback (most recent call last)",
            "\u001b[0;32m/tmp/ipython-input-1141175380.py\u001b[0m in \u001b[0;36m<cell line: 0>\u001b[0;34m()\u001b[0m\n\u001b[0;32m----> 1\u001b[0;31m \u001b[0mset_variable\u001b[0m \u001b[0;34m=\u001b[0m \u001b[0;34m{\u001b[0m\u001b[0;36m10\u001b[0m\u001b[0;34m,\u001b[0m\u001b[0;34m'string'\u001b[0m\u001b[0;34m,\u001b[0m\u001b[0;32mTrue\u001b[0m\u001b[0;34m,\u001b[0m\u001b[0;34m[\u001b[0m\u001b[0;34m]\u001b[0m\u001b[0;34m,\u001b[0m\u001b[0;36m10.2\u001b[0m\u001b[0;34m}\u001b[0m\u001b[0;34m\u001b[0m\u001b[0;34m\u001b[0m\u001b[0m\n\u001b[0m\u001b[1;32m      2\u001b[0m \u001b[0;31m# here error is thrown because of the empty list\u001b[0m\u001b[0;34m\u001b[0m\u001b[0;34m\u001b[0m\u001b[0m\n",
            "\u001b[0;31mTypeError\u001b[0m: unhashable type: 'list'"
          ]
        }
      ]
    },
    {
      "cell_type": "code",
      "source": [
        "set_example_1 = {1,2,3,4.5,6,'test',True}"
      ],
      "metadata": {
        "id": "9ceA062bnvnC"
      },
      "execution_count": 21,
      "outputs": []
    },
    {
      "cell_type": "markdown",
      "source": [
        "\n",
        "1.   Sets are immutable.\n",
        "2.   Sets cannot have same value.\n",
        "\n"
      ],
      "metadata": {
        "id": "nOU-c9kAoDXm"
      }
    },
    {
      "cell_type": "code",
      "source": [
        "set_example_2 = {1,2,3,4,1,2}\n",
        "print(set_example_2)"
      ],
      "metadata": {
        "colab": {
          "base_uri": "https://localhost:8080/"
        },
        "id": "g19i-udQn538",
        "outputId": "a54a30f5-2d9a-40aa-c4ad-b9dcc3c1bbf0"
      },
      "execution_count": 25,
      "outputs": [
        {
          "output_type": "stream",
          "name": "stdout",
          "text": [
            "{1, 2, 3, 4}\n"
          ]
        }
      ]
    },
    {
      "cell_type": "code",
      "source": [
        "# Remove multiple values from the list\n",
        "list_example = [1,2,3,5,6,1,3,4,5]\n",
        "unique_values = list(set(list_example))\n",
        "print(unique_values)"
      ],
      "metadata": {
        "colab": {
          "base_uri": "https://localhost:8080/"
        },
        "id": "qcBsjRo_o3dA",
        "outputId": "6b647a78-1411-46f8-ed9b-a03a460c95a0"
      },
      "execution_count": 26,
      "outputs": [
        {
          "output_type": "stream",
          "name": "stdout",
          "text": [
            "[1, 2, 3, 4, 5, 6]\n"
          ]
        }
      ]
    },
    {
      "cell_type": "markdown",
      "source": [
        "## **d. Dictionary**\n",
        " they are mutable"
      ],
      "metadata": {
        "id": "oqMcDv-sqmVo"
      }
    },
    {
      "cell_type": "code",
      "source": [
        "dict_variable = {'a':'1','b':2,'c':3.0,'d':[1,2],'e':(1,2),'f':{1,2} }\n",
        "dict_variable['a']"
      ],
      "metadata": {
        "colab": {
          "base_uri": "https://localhost:8080/",
          "height": 36
        },
        "id": "wj0KClE4qrAQ",
        "outputId": "968ae0c7-952d-430b-e233-b3dc3bc9ef5b"
      },
      "execution_count": 27,
      "outputs": [
        {
          "output_type": "execute_result",
          "data": {
            "text/plain": [
              "'1'"
            ],
            "application/vnd.google.colaboratory.intrinsic+json": {
              "type": "string"
            }
          },
          "metadata": {},
          "execution_count": 27
        }
      ]
    },
    {
      "cell_type": "markdown",
      "source": [
        "# **6. CRUD operations**"
      ],
      "metadata": {
        "id": "vbnvcBwUsRe2"
      }
    },
    {
      "cell_type": "markdown",
      "source": [
        "## **a. List**"
      ],
      "metadata": {
        "id": "dEOis9FCIc0W"
      }
    },
    {
      "cell_type": "code",
      "source": [
        "# Create\n",
        "names = ['test','best','rest','nest']"
      ],
      "metadata": {
        "id": "euELUEjZsfBG"
      },
      "execution_count": 28,
      "outputs": []
    },
    {
      "cell_type": "code",
      "source": [
        "#Read\n",
        "print(names)\n",
        "print(names[-1])"
      ],
      "metadata": {
        "colab": {
          "base_uri": "https://localhost:8080/"
        },
        "id": "BdTO1ByGuQ4-",
        "outputId": "72ad234e-c3ce-4871-f3c2-bf8d5d341780"
      },
      "execution_count": 29,
      "outputs": [
        {
          "output_type": "stream",
          "name": "stdout",
          "text": [
            "['test', 'best', 'rest', 'nest']\n",
            "nest\n"
          ]
        }
      ]
    },
    {
      "cell_type": "code",
      "source": [
        "len(names)"
      ],
      "metadata": {
        "colab": {
          "base_uri": "https://localhost:8080/"
        },
        "id": "FOrkZLiQuhPp",
        "outputId": "7bd4949b-9fec-4841-989e-8c1d88c132a4"
      },
      "execution_count": 30,
      "outputs": [
        {
          "output_type": "execute_result",
          "data": {
            "text/plain": [
              "4"
            ]
          },
          "metadata": {},
          "execution_count": 30
        }
      ]
    },
    {
      "cell_type": "code",
      "source": [
        "#Update\n",
        "names[0] ='chest'\n",
        "print(names)\n",
        "names.append('fest')\n",
        "print(names)\n",
        "names.insert(2,'test')\n",
        "print(names)"
      ],
      "metadata": {
        "colab": {
          "base_uri": "https://localhost:8080/"
        },
        "id": "xZG6m9nEunK-",
        "outputId": "77a45b5f-3618-4df6-968e-62780a868d1c"
      },
      "execution_count": 31,
      "outputs": [
        {
          "output_type": "stream",
          "name": "stdout",
          "text": [
            "['chest', 'best', 'rest', 'nest']\n",
            "['chest', 'best', 'rest', 'nest', 'fest']\n",
            "['chest', 'best', 'test', 'rest', 'nest', 'fest']\n"
          ]
        }
      ]
    },
    {
      "cell_type": "code",
      "source": [
        "## to get the details of a particular function\n",
        "names.append??"
      ],
      "metadata": {
        "id": "qMGFguEivbfg"
      },
      "execution_count": 32,
      "outputs": []
    },
    {
      "cell_type": "code",
      "source": [
        "# Delete\n",
        "del names[-1]\n",
        "print(names)\n",
        "del names[2]\n",
        "print(names)"
      ],
      "metadata": {
        "colab": {
          "base_uri": "https://localhost:8080/"
        },
        "id": "uN7xe7YavkRw",
        "outputId": "740fd506-b891-4f45-9a13-71624a3b5106"
      },
      "execution_count": 33,
      "outputs": [
        {
          "output_type": "stream",
          "name": "stdout",
          "text": [
            "['chest', 'best', 'test', 'rest', 'nest']\n",
            "['chest', 'best', 'rest', 'nest']\n"
          ]
        }
      ]
    },
    {
      "cell_type": "markdown",
      "source": [
        "## **b. Dictionary**"
      ],
      "metadata": {
        "id": "9Vkwhi00wB7m"
      }
    },
    {
      "cell_type": "code",
      "source": [
        "#Create\n",
        "dict_example = {'a':'1','b':2,'c':3.0,'d':[1,2],'e':(1,2),'f':{1,2} }"
      ],
      "metadata": {
        "id": "ewKu_jEGwAp0"
      },
      "execution_count": 34,
      "outputs": []
    },
    {
      "cell_type": "code",
      "source": [
        "# Read\n",
        "print(dict_example)\n",
        "print(dict_example['e'])\n",
        "print(dict_example.keys())\n",
        "print(dict_example.values())"
      ],
      "metadata": {
        "colab": {
          "base_uri": "https://localhost:8080/"
        },
        "id": "f9rnjov7wmGX",
        "outputId": "04a111fa-a968-44c8-d4e0-2a5812b4e50e"
      },
      "execution_count": 35,
      "outputs": [
        {
          "output_type": "stream",
          "name": "stdout",
          "text": [
            "{'a': '1', 'b': 2, 'c': 3.0, 'd': [1, 2], 'e': (1, 2), 'f': {1, 2}}\n",
            "(1, 2)\n",
            "dict_keys(['a', 'b', 'c', 'd', 'e', 'f'])\n",
            "dict_values(['1', 2, 3.0, [1, 2], (1, 2), {1, 2}])\n"
          ]
        }
      ]
    },
    {
      "cell_type": "code",
      "source": [
        "#Update\n",
        "dict_example['a'] = '2'\n",
        "print(dict_example)\n",
        "dict_example['g'] = {'0':'1'}\n",
        "print(dict_example)\n",
        "dict_example.update({'h':2})\n",
        "print(dict_example)"
      ],
      "metadata": {
        "colab": {
          "base_uri": "https://localhost:8080/"
        },
        "id": "BrxHDdRfxEyZ",
        "outputId": "ed82a6c1-d949-4abf-85eb-d7145c78d335"
      },
      "execution_count": 36,
      "outputs": [
        {
          "output_type": "stream",
          "name": "stdout",
          "text": [
            "{'a': '2', 'b': 2, 'c': 3.0, 'd': [1, 2], 'e': (1, 2), 'f': {1, 2}}\n",
            "{'a': '2', 'b': 2, 'c': 3.0, 'd': [1, 2], 'e': (1, 2), 'f': {1, 2}, 'g': {'0': '1'}}\n",
            "{'a': '2', 'b': 2, 'c': 3.0, 'd': [1, 2], 'e': (1, 2), 'f': {1, 2}, 'g': {'0': '1'}, 'h': 2}\n"
          ]
        }
      ]
    },
    {
      "cell_type": "code",
      "source": [
        "#Delete\n",
        "print(dict_example['d'])\n",
        "del dict_example[\"d\"]\n",
        "print(dict_example)\n",
        "dict_example.pop(\"e\")\n",
        "print(dict_example)\n",
        "dict_example.clear()\n",
        "print(dict_example)"
      ],
      "metadata": {
        "colab": {
          "base_uri": "https://localhost:8080/"
        },
        "id": "cnEbuiYOxuFX",
        "outputId": "d831ff0c-b66e-44da-84cd-133b4f9ad20e"
      },
      "execution_count": 37,
      "outputs": [
        {
          "output_type": "stream",
          "name": "stdout",
          "text": [
            "[1, 2]\n",
            "{'a': '2', 'b': 2, 'c': 3.0, 'e': (1, 2), 'f': {1, 2}, 'g': {'0': '1'}, 'h': 2}\n",
            "{'a': '2', 'b': 2, 'c': 3.0, 'f': {1, 2}, 'g': {'0': '1'}, 'h': 2}\n",
            "{}\n"
          ]
        }
      ]
    },
    {
      "cell_type": "code",
      "source": [
        "#copy a dictionary\n",
        "new_dict = dict_example.copy()\n",
        "print(new_dict)\n",
        "new_dict['a'] = 3\n",
        "print(new_dict)\n",
        "print(dict_example)\n",
        "new_dict_1 = dict_example\n",
        "new_dict_1['a'] = 4\n",
        "print(new_dict_1)\n",
        "print(dict_example)\n"
      ],
      "metadata": {
        "id": "ub5LZcvi3FqQ",
        "outputId": "1a29b651-2c7e-494e-d893-a5b8e354744a",
        "colab": {
          "base_uri": "https://localhost:8080/"
        }
      },
      "execution_count": 38,
      "outputs": [
        {
          "output_type": "stream",
          "name": "stdout",
          "text": [
            "{}\n",
            "{'a': 3}\n",
            "{}\n",
            "{'a': 4}\n",
            "{'a': 4}\n"
          ]
        }
      ]
    },
    {
      "cell_type": "markdown",
      "source": [
        "# **7. Conditions**"
      ],
      "metadata": {
        "id": "YZbddPioy04o"
      }
    },
    {
      "cell_type": "markdown",
      "source": [
        "## **a. If statement**"
      ],
      "metadata": {
        "id": "Fq3Obw6uI3pe"
      }
    },
    {
      "cell_type": "code",
      "source": [
        "#if statement\n",
        "name = 10\n",
        "if name == 10:\n",
        "  print(\"hello\")\n",
        "name = '10'\n",
        "if name == 10:\n",
        "  print(\"hello 1\")\n",
        "if name == str(10):\n",
        "  print(\"hello 2\")\n",
        "if 0 == False:\n",
        "  print(\"hello 3\")"
      ],
      "metadata": {
        "colab": {
          "base_uri": "https://localhost:8080/"
        },
        "id": "uqDE-9pKy4Aj",
        "outputId": "27bfcbea-b316-486f-dbb2-38b1fcd7a4ba"
      },
      "execution_count": 39,
      "outputs": [
        {
          "output_type": "stream",
          "name": "stdout",
          "text": [
            "hello\n",
            "hello 2\n",
            "hello 3\n"
          ]
        }
      ]
    },
    {
      "cell_type": "code",
      "source": [
        "test = 1\n",
        "if test == 1:\n",
        "  print('test')\n",
        "elif test == 2:\n",
        "  print('test1')\n",
        "else:\n",
        "  print('test3')"
      ],
      "metadata": {
        "colab": {
          "base_uri": "https://localhost:8080/"
        },
        "id": "DpXFA62-yzX9",
        "outputId": "61fb5c91-e4cc-4a16-849c-2ab17c65e603"
      },
      "execution_count": 40,
      "outputs": [
        {
          "output_type": "stream",
          "name": "stdout",
          "text": [
            "test\n"
          ]
        }
      ]
    },
    {
      "cell_type": "code",
      "source": [
        "test_values = ['a','b','c']\n",
        "if 'a' in test_values:\n",
        "  print('a')\n",
        "elif 'm' in test_values:\n",
        "  print('m')\n",
        "else:\n",
        "   print('test')"
      ],
      "metadata": {
        "id": "NSDgYaVw3lpI",
        "outputId": "598bcfe3-8a47-453f-cfe7-80a335cdaffb",
        "colab": {
          "base_uri": "https://localhost:8080/"
        }
      },
      "execution_count": 41,
      "outputs": [
        {
          "output_type": "stream",
          "name": "stdout",
          "text": [
            "a\n"
          ]
        }
      ]
    },
    {
      "cell_type": "code",
      "source": [
        "#Escape statement\n",
        "print('Elon\\'s here')"
      ],
      "metadata": {
        "id": "cvH9bR5G4DCT",
        "outputId": "4cf78b1b-3266-442d-9b96-6b7edcfe5357",
        "colab": {
          "base_uri": "https://localhost:8080/"
        }
      },
      "execution_count": 42,
      "outputs": [
        {
          "output_type": "stream",
          "name": "stdout",
          "text": [
            "Elon's here\n"
          ]
        }
      ]
    },
    {
      "cell_type": "markdown",
      "source": [
        "## **b. Loops**"
      ],
      "metadata": {
        "id": "IDzHnFFOstyH"
      }
    },
    {
      "cell_type": "code",
      "source": [
        "names = ['a','c','d','e','b','f']\n",
        "for name in names:\n",
        "  if name == 'a':\n",
        "    print('test',name)\n",
        "    continue\n",
        "  elif name == 'b':\n",
        "    print('hello',name)\n",
        "    break\n",
        "  else:\n",
        "    print(name)\n",
        "  print('testtt')\n",
        "#observe f is not printed because it encounters break after b and for 'a' loop 'test' is not printed because of continue"
      ],
      "metadata": {
        "colab": {
          "base_uri": "https://localhost:8080/"
        },
        "id": "JW99XF_lsrwo",
        "outputId": "b5deb0be-fd86-4f99-cca9-bb46a98ce0f4"
      },
      "execution_count": 43,
      "outputs": [
        {
          "output_type": "stream",
          "name": "stdout",
          "text": [
            "test a\n",
            "c\n",
            "testtt\n",
            "d\n",
            "testtt\n",
            "e\n",
            "testtt\n",
            "hello b\n"
          ]
        }
      ]
    },
    {
      "cell_type": "code",
      "source": [
        "for i in range(1,10,2):\n",
        "  print(i)"
      ],
      "metadata": {
        "id": "MnRuhJ3C82xv",
        "outputId": "7bcfe898-f6c7-4d47-ebed-14efc8b71c9b",
        "colab": {
          "base_uri": "https://localhost:8080/"
        }
      },
      "execution_count": 44,
      "outputs": [
        {
          "output_type": "stream",
          "name": "stdout",
          "text": [
            "1\n",
            "3\n",
            "5\n",
            "7\n",
            "9\n"
          ]
        }
      ]
    },
    {
      "cell_type": "code",
      "source": [
        "# 'pass' can be instead of empty condition block\n",
        "a = 20\n",
        "if a == 10:\n",
        "  print('hello')\n",
        "else:\n",
        "  pass"
      ],
      "metadata": {
        "id": "SyOTLFDWvy2I"
      },
      "execution_count": 45,
      "outputs": []
    },
    {
      "cell_type": "code",
      "source": [
        "for i in range(10):\n",
        "  print(i)\n",
        "print('\\n')\n",
        "for i in range(1,10):\n",
        "  print(i)"
      ],
      "metadata": {
        "colab": {
          "base_uri": "https://localhost:8080/"
        },
        "id": "DXzFbi_bwf9l",
        "outputId": "5c2c3c74-e1f2-4271-eb0b-145b09d39160"
      },
      "execution_count": 46,
      "outputs": [
        {
          "output_type": "stream",
          "name": "stdout",
          "text": [
            "0\n",
            "1\n",
            "2\n",
            "3\n",
            "4\n",
            "5\n",
            "6\n",
            "7\n",
            "8\n",
            "9\n",
            "\n",
            "\n",
            "1\n",
            "2\n",
            "3\n",
            "4\n",
            "5\n",
            "6\n",
            "7\n",
            "8\n",
            "9\n"
          ]
        }
      ]
    },
    {
      "cell_type": "code",
      "source": [
        "num = 0\n",
        "sum = 5\n",
        "while True:\n",
        "  print('Shuttle {} launched'.format(num))\n",
        "  num += 1\n",
        "  if num > sum:\n",
        "    break"
      ],
      "metadata": {
        "colab": {
          "base_uri": "https://localhost:8080/"
        },
        "id": "CrUx7yb8x3v2",
        "outputId": "9ca8e045-9f23-4825-825c-72b1e72702d3"
      },
      "execution_count": 47,
      "outputs": [
        {
          "output_type": "stream",
          "name": "stdout",
          "text": [
            "Shuttle 0 launched\n",
            "Shuttle 1 launched\n",
            "Shuttle 2 launched\n",
            "Shuttle 3 launched\n",
            "Shuttle 4 launched\n",
            "Shuttle 5 launched\n"
          ]
        }
      ]
    },
    {
      "cell_type": "code",
      "source": [
        "set_val = {'a':1,'b':2,'c':3,'d':4}\n",
        "for key in set_val.keys():\n",
        "  print(key)\n",
        "print('\\n')\n",
        "for val in set_val.values():\n",
        "  print(val)"
      ],
      "metadata": {
        "colab": {
          "base_uri": "https://localhost:8080/"
        },
        "id": "QDKawPpb0JU7",
        "outputId": "783e6f57-33df-4449-d87e-7c9d89110568"
      },
      "execution_count": 48,
      "outputs": [
        {
          "output_type": "stream",
          "name": "stdout",
          "text": [
            "a\n",
            "b\n",
            "c\n",
            "d\n",
            "\n",
            "\n",
            "1\n",
            "2\n",
            "3\n",
            "4\n"
          ]
        }
      ]
    },
    {
      "cell_type": "code",
      "source": [
        "for key,val in set_val.items():\n",
        "  print('test',key,val)"
      ],
      "metadata": {
        "colab": {
          "base_uri": "https://localhost:8080/"
        },
        "id": "aD2dy3bw1hJ5",
        "outputId": "b89dcac7-92bf-45be-e155-332f0ad858d7"
      },
      "execution_count": 49,
      "outputs": [
        {
          "output_type": "stream",
          "name": "stdout",
          "text": [
            "test a 1\n",
            "test b 2\n",
            "test c 3\n",
            "test d 4\n"
          ]
        }
      ]
    },
    {
      "cell_type": "code",
      "source": [
        "#List comphrehension\n",
        "names = ['neha','chethan', 'meera','srinivas','namratha']\n",
        "new_list = [name.title() for name in names]\n",
        "print(new_list)"
      ],
      "metadata": {
        "id": "UGJCa3ZvKEyz",
        "outputId": "18cea10e-4552-438d-808f-2df3d7bf1517",
        "colab": {
          "base_uri": "https://localhost:8080/"
        }
      },
      "execution_count": 50,
      "outputs": [
        {
          "output_type": "stream",
          "name": "stdout",
          "text": [
            "['Neha', 'Chethan', 'Meera', 'Srinivas', 'Namratha']\n"
          ]
        }
      ]
    },
    {
      "cell_type": "markdown",
      "source": [
        "# **8. Functions**"
      ],
      "metadata": {
        "id": "g79mOyGlOTWq"
      }
    },
    {
      "cell_type": "code",
      "source": [
        "def sum_of_two_numbers(a,b):\n",
        "  print(a+b)\n",
        "sum_of_two_numbers(3,5)\n",
        "# here a and b refers to positional argument"
      ],
      "metadata": {
        "id": "GYoREcWgOPe_",
        "outputId": "7564d694-7d7f-4a80-e443-f71f2db57242",
        "colab": {
          "base_uri": "https://localhost:8080/"
        }
      },
      "execution_count": 51,
      "outputs": [
        {
          "output_type": "stream",
          "name": "stdout",
          "text": [
            "8\n"
          ]
        }
      ]
    },
    {
      "cell_type": "code",
      "source": [
        "print('neha'.upper())\n",
        "print('Hello World'.count('l'))\n",
        "print('Hello world'.replace('l','o'))\n",
        "print('test {} {}'.format('Neha'))\n",
        "\n",
        "#fix is  print('test {} {}'.format('Neha'.'Neha'))"
      ],
      "metadata": {
        "colab": {
          "base_uri": "https://localhost:8080/",
          "height": 263
        },
        "id": "mApKt2nTrBQv",
        "outputId": "bdab8fd3-ded0-4d50-c744-8adc49f2b381"
      },
      "execution_count": 52,
      "outputs": [
        {
          "output_type": "stream",
          "name": "stdout",
          "text": [
            "NEHA\n",
            "3\n",
            "Heooo worod\n"
          ]
        },
        {
          "output_type": "error",
          "ename": "IndexError",
          "evalue": "Replacement index 1 out of range for positional args tuple",
          "traceback": [
            "\u001b[0;31m---------------------------------------------------------------------------\u001b[0m",
            "\u001b[0;31mIndexError\u001b[0m                                Traceback (most recent call last)",
            "\u001b[0;32m/tmp/ipython-input-3785633018.py\u001b[0m in \u001b[0;36m<cell line: 0>\u001b[0;34m()\u001b[0m\n\u001b[1;32m      2\u001b[0m \u001b[0mprint\u001b[0m\u001b[0;34m(\u001b[0m\u001b[0;34m'Hello World'\u001b[0m\u001b[0;34m.\u001b[0m\u001b[0mcount\u001b[0m\u001b[0;34m(\u001b[0m\u001b[0;34m'l'\u001b[0m\u001b[0;34m)\u001b[0m\u001b[0;34m)\u001b[0m\u001b[0;34m\u001b[0m\u001b[0;34m\u001b[0m\u001b[0m\n\u001b[1;32m      3\u001b[0m \u001b[0mprint\u001b[0m\u001b[0;34m(\u001b[0m\u001b[0;34m'Hello world'\u001b[0m\u001b[0;34m.\u001b[0m\u001b[0mreplace\u001b[0m\u001b[0;34m(\u001b[0m\u001b[0;34m'l'\u001b[0m\u001b[0;34m,\u001b[0m\u001b[0;34m'o'\u001b[0m\u001b[0;34m)\u001b[0m\u001b[0;34m)\u001b[0m\u001b[0;34m\u001b[0m\u001b[0;34m\u001b[0m\u001b[0m\n\u001b[0;32m----> 4\u001b[0;31m \u001b[0mprint\u001b[0m\u001b[0;34m(\u001b[0m\u001b[0;34m'test {} {}'\u001b[0m\u001b[0;34m.\u001b[0m\u001b[0mformat\u001b[0m\u001b[0;34m(\u001b[0m\u001b[0;34m'Neha'\u001b[0m\u001b[0;34m)\u001b[0m\u001b[0;34m)\u001b[0m\u001b[0;34m\u001b[0m\u001b[0;34m\u001b[0m\u001b[0m\n\u001b[0m\u001b[1;32m      5\u001b[0m \u001b[0;34m\u001b[0m\u001b[0m\n\u001b[1;32m      6\u001b[0m \u001b[0;31m#fix is  print('test {} {}'.format('Neha'.'Neha'))\u001b[0m\u001b[0;34m\u001b[0m\u001b[0;34m\u001b[0m\u001b[0m\n",
            "\u001b[0;31mIndexError\u001b[0m: Replacement index 1 out of range for positional args tuple"
          ]
        }
      ]
    },
    {
      "cell_type": "code",
      "source": [
        "#f string\n",
        "var_1 ='test'\n",
        "var_2 ='ing'\n",
        "print(var_1 + var_2)\n",
        "f'{var_1} dasf {var_2}'"
      ],
      "metadata": {
        "id": "SK8j1Jzvkp6s",
        "outputId": "586c2f08-a9b8-4a9a-8829-102fc9a83a08",
        "colab": {
          "base_uri": "https://localhost:8080/",
          "height": 53
        }
      },
      "execution_count": 53,
      "outputs": [
        {
          "output_type": "stream",
          "name": "stdout",
          "text": [
            "testing\n"
          ]
        },
        {
          "output_type": "execute_result",
          "data": {
            "text/plain": [
              "'test dasf ing'"
            ],
            "application/vnd.google.colaboratory.intrinsic+json": {
              "type": "string"
            }
          },
          "metadata": {},
          "execution_count": 53
        }
      ]
    },
    {
      "cell_type": "code",
      "source": [
        "test = ['a','b','c','d']\n",
        "for i, name in enumerate(test):\n",
        "  print(i,name)\n",
        "# Using enumerate with a custom start value (1)\n",
        "for count, fruit in enumerate(test, start=1):\n",
        "    print(f\"Count: {count}, Fruit: {fruit}\")"
      ],
      "metadata": {
        "colab": {
          "base_uri": "https://localhost:8080/"
        },
        "id": "8z8s00gpuxde",
        "outputId": "74f5ac36-9991-4523-b695-383bcf710168"
      },
      "execution_count": 54,
      "outputs": [
        {
          "output_type": "stream",
          "name": "stdout",
          "text": [
            "0 a\n",
            "1 b\n",
            "2 c\n",
            "3 d\n",
            "Count: 1, Fruit: a\n",
            "Count: 2, Fruit: b\n",
            "Count: 3, Fruit: c\n",
            "Count: 4, Fruit: d\n"
          ]
        }
      ]
    },
    {
      "cell_type": "code",
      "source": [
        "#Example1\n",
        "#keyword arguments is nothing but assigning default values to the arguments\n",
        "def greet(name, message):\n",
        "    print(f\"Hello, {name}! {message}\")\n",
        "\n",
        "# Using positional arguments\n",
        "greet(\"Alice\", \"How are you?\")\n",
        "\n",
        "# Using keyword arguments\n",
        "greet(name=\"Bob\", message=\"Nice to meet you.\")\n",
        "greet(message=\"Welcome!\", name=\"Charlie\") # Order doesn't matter with keyword arguments\n",
        "\n",
        "\n",
        "#Example2\n",
        "def subtraction(a=10,b=5):\n",
        "  print(a-b);\n",
        "subtraction()\n",
        "\n",
        "#if we have to combine positional and keyword arguments then first positional arguments will be listed followed by keyword args"
      ],
      "metadata": {
        "colab": {
          "base_uri": "https://localhost:8080/"
        },
        "id": "k1avMS_CwzNT",
        "outputId": "c882e726-2b80-491a-be28-d53841ce8ee4"
      },
      "execution_count": 55,
      "outputs": [
        {
          "output_type": "stream",
          "name": "stdout",
          "text": [
            "Hello, Alice! How are you?\n",
            "Hello, Bob! Nice to meet you.\n",
            "Hello, Charlie! Welcome!\n",
            "5\n"
          ]
        }
      ]
    },
    {
      "cell_type": "markdown",
      "source": [
        "# **9.Lambda Functions**"
      ],
      "metadata": {
        "id": "cI7MHHCU0J3k"
      }
    },
    {
      "cell_type": "code",
      "source": [
        "pi = lambda x: x*3.14\n",
        "pi(2)"
      ],
      "metadata": {
        "colab": {
          "base_uri": "https://localhost:8080/"
        },
        "id": "dEEF1OLtz1FR",
        "outputId": "4de811f1-91a4-46a2-ae6c-0b9b1789cd3d"
      },
      "execution_count": 56,
      "outputs": [
        {
          "output_type": "execute_result",
          "data": {
            "text/plain": [
              "6.28"
            ]
          },
          "metadata": {},
          "execution_count": 56
        }
      ]
    },
    {
      "cell_type": "markdown",
      "source": [
        "# **10. Classes**"
      ],
      "metadata": {
        "id": "6xW6J5W22nlk"
      }
    },
    {
      "cell_type": "code",
      "source": [
        "class Person():\n",
        "  #this function runs as soon as we create a class\n",
        "  def __init__(self,name,age,color):\n",
        "    #creating attributes for the class\n",
        "    self.name = name\n",
        "    self.age = age\n",
        "    self.color = color\n",
        "\n",
        "  def year_of_birth(self):\n",
        "    return 2021-self.age\n",
        "\n",
        "  def project_age(self,years=5):\n",
        "    return self.age+years\n",
        "\n",
        "new_person = Person('Name',30,'blue')\n",
        "print(new_person.name)\n",
        "new_person.year_of_birth()\n",
        "new_person.project_age(10)"
      ],
      "metadata": {
        "colab": {
          "base_uri": "https://localhost:8080/"
        },
        "id": "iyyn8ocI02RV",
        "outputId": "5159422c-f7cf-477f-f485-4f3a70362d18"
      },
      "execution_count": 57,
      "outputs": [
        {
          "output_type": "stream",
          "name": "stdout",
          "text": [
            "Name\n"
          ]
        },
        {
          "output_type": "execute_result",
          "data": {
            "text/plain": [
              "40"
            ]
          },
          "metadata": {},
          "execution_count": 57
        }
      ]
    },
    {
      "cell_type": "markdown",
      "source": [
        "# **11. Inheritance**"
      ],
      "metadata": {
        "id": "Oug1po2GC-9-"
      }
    },
    {
      "cell_type": "code",
      "source": [
        "class Astraunut(Person):\n",
        "  def __init__(self,name,age,color,mission):\n",
        "    #inheritance from person class\n",
        "    super().__init__(name,age,color)\n",
        "    self.mission = mission\n",
        "  def project_age_return(self,years=5):\n",
        "    return self.project_age()\n",
        "\n",
        "new_astraunaut = Astraunut('test',40,'blue',48)\n",
        "new_astraunaut.project_age_return(20)\n",
        "new_astraunaut.year_of_birth()"
      ],
      "metadata": {
        "colab": {
          "base_uri": "https://localhost:8080/"
        },
        "id": "r_gAHlhiFZyj",
        "outputId": "c04163ec-77d0-4499-9f98-9e45ab27282d"
      },
      "execution_count": 58,
      "outputs": [
        {
          "output_type": "execute_result",
          "data": {
            "text/plain": [
              "1981"
            ]
          },
          "metadata": {},
          "execution_count": 58
        }
      ]
    },
    {
      "cell_type": "markdown",
      "source": [
        "# **12. Modules**"
      ],
      "metadata": {
        "id": "CTyp6FQ2WteP"
      }
    },
    {
      "cell_type": "code",
      "source": [
        "\n",
        "%%writefile helpers.py\n",
        "\n",
        "def launch_codes():\n",
        "    print(\"🚀 Launch sequence initiated!\")\n"
      ],
      "metadata": {
        "id": "wHNUCTWtUt5Y",
        "outputId": "46bcd4ee-7d97-47b8-cbd3-1826972cd6e5",
        "colab": {
          "base_uri": "https://localhost:8080/"
        }
      },
      "execution_count": 59,
      "outputs": [
        {
          "output_type": "stream",
          "name": "stdout",
          "text": [
            "Writing helpers.py\n"
          ]
        }
      ]
    },
    {
      "cell_type": "code",
      "source": [
        "\n",
        "from helpers import launch_codes\n",
        "launch_codes()\n"
      ],
      "metadata": {
        "id": "TXhVWkkEUxYk",
        "outputId": "6d206173-3349-4d68-c3bd-3e8661a88c13",
        "colab": {
          "base_uri": "https://localhost:8080/"
        }
      },
      "execution_count": 60,
      "outputs": [
        {
          "output_type": "stream",
          "name": "stdout",
          "text": [
            "🚀 Launch sequence initiated!\n"
          ]
        }
      ]
    },
    {
      "cell_type": "markdown",
      "source": [
        "# **13. Working with packages**"
      ],
      "metadata": {
        "id": "zV0L_rVgWiv2"
      }
    },
    {
      "cell_type": "code",
      "source": [
        "!pip install requests"
      ],
      "metadata": {
        "id": "NLdyFstjWcse",
        "outputId": "e98d7d7c-2470-4cce-ea2d-1a865eb01508",
        "colab": {
          "base_uri": "https://localhost:8080/"
        }
      },
      "execution_count": null,
      "outputs": [
        {
          "output_type": "stream",
          "name": "stdout",
          "text": [
            "Requirement already satisfied: requests in /usr/local/lib/python3.12/dist-packages (2.32.4)\n",
            "Requirement already satisfied: charset_normalizer<4,>=2 in /usr/local/lib/python3.12/dist-packages (from requests) (3.4.3)\n",
            "Requirement already satisfied: idna<4,>=2.5 in /usr/local/lib/python3.12/dist-packages (from requests) (3.10)\n",
            "Requirement already satisfied: urllib3<3,>=1.21.1 in /usr/local/lib/python3.12/dist-packages (from requests) (2.5.0)\n",
            "Requirement already satisfied: certifi>=2017.4.17 in /usr/local/lib/python3.12/dist-packages (from requests) (2025.8.3)\n"
          ]
        }
      ]
    },
    {
      "cell_type": "markdown",
      "source": [
        "!pip install requests\n",
        "The ! tells the notebook to run the command as a shell command (like in a terminal).\n",
        "\n",
        "pip install requests\n",
        "This is a Python statement, not a shell command.\n",
        "It works only in scripts or interactive Python environments (like the terminal or .py files).\n",
        "In notebooks, it may throw an error unless you're using a special magic command like %pip."
      ],
      "metadata": {
        "id": "vB1T3vc9XAew"
      }
    },
    {
      "cell_type": "code",
      "source": [
        "# list all the packages in the environment\n",
        "!pip list"
      ],
      "metadata": {
        "id": "Sh_4Ll-fXN1v",
        "outputId": "cf2d6a8e-d57c-4aa9-d491-21f27c900c3a",
        "colab": {
          "base_uri": "https://localhost:8080/"
        }
      },
      "execution_count": 61,
      "outputs": [
        {
          "output_type": "stream",
          "name": "stdout",
          "text": [
            "Package                               Version\n",
            "------------------------------------- -------------------\n",
            "absl-py                               1.4.0\n",
            "absolufy-imports                      0.3.1\n",
            "accelerate                            1.10.1\n",
            "aiofiles                              24.1.0\n",
            "aiohappyeyeballs                      2.6.1\n",
            "aiohttp                               3.13.0\n",
            "aiosignal                             1.4.0\n",
            "alabaster                             1.0.0\n",
            "albucore                              0.0.24\n",
            "albumentations                        2.0.8\n",
            "ale-py                                0.11.2\n",
            "alembic                               1.16.5\n",
            "altair                                5.5.0\n",
            "annotated-types                       0.7.0\n",
            "antlr4-python3-runtime                4.9.3\n",
            "anyio                                 4.11.0\n",
            "anywidget                             0.9.18\n",
            "argon2-cffi                           25.1.0\n",
            "argon2-cffi-bindings                  25.1.0\n",
            "array_record                          0.8.1\n",
            "arrow                                 1.3.0\n",
            "arviz                                 0.22.0\n",
            "astropy                               7.1.0\n",
            "astropy-iers-data                     0.2025.10.6.0.35.25\n",
            "astunparse                            1.6.3\n",
            "atpublic                              5.1\n",
            "attrs                                 25.4.0\n",
            "audioread                             3.0.1\n",
            "Authlib                               1.6.5\n",
            "autograd                              1.8.0\n",
            "babel                                 2.17.0\n",
            "backcall                              0.2.0\n",
            "beartype                              0.22.2\n",
            "beautifulsoup4                        4.13.5\n",
            "betterproto                           2.0.0b6\n",
            "bigframes                             2.24.0\n",
            "bigquery-magics                       0.10.3\n",
            "bleach                                6.2.0\n",
            "blinker                               1.9.0\n",
            "blis                                  1.3.0\n",
            "blobfile                              3.1.0\n",
            "blosc2                                3.10.0\n",
            "bokeh                                 3.7.3\n",
            "Bottleneck                            1.4.2\n",
            "bqplot                                0.12.45\n",
            "branca                                0.8.2\n",
            "Brotli                                1.1.0\n",
            "build                                 1.3.0\n",
            "CacheControl                          0.14.3\n",
            "cachetools                            5.5.2\n",
            "catalogue                             2.0.10\n",
            "certifi                               2025.10.5\n",
            "cffi                                  2.0.0\n",
            "chardet                               5.2.0\n",
            "charset-normalizer                    3.4.3\n",
            "chex                                  0.1.90\n",
            "clarabel                              0.11.1\n",
            "click                                 8.3.0\n",
            "cloudpathlib                          0.23.0\n",
            "cloudpickle                           3.1.1\n",
            "cmake                                 3.31.6\n",
            "cmdstanpy                             1.2.5\n",
            "colorcet                              3.1.0\n",
            "colorlover                            0.3.0\n",
            "colour                                0.1.5\n",
            "community                             1.0.0b1\n",
            "confection                            0.1.5\n",
            "cons                                  0.4.7\n",
            "contourpy                             1.3.3\n",
            "cramjam                               2.11.0\n",
            "cryptography                          43.0.3\n",
            "cuda-python                           12.6.2.post1\n",
            "cudf-cu12                             25.6.0\n",
            "cudf-polars-cu12                      25.6.0\n",
            "cufflinks                             0.17.3\n",
            "cuml-cu12                             25.6.0\n",
            "cupy-cuda12x                          13.3.0\n",
            "curl_cffi                             0.13.0\n",
            "cuvs-cu12                             25.6.1\n",
            "cvxopt                                1.3.2\n",
            "cvxpy                                 1.6.7\n",
            "cycler                                0.12.1\n",
            "cyipopt                               1.5.0\n",
            "cymem                                 2.0.11\n",
            "Cython                                3.0.12\n",
            "dask                                  2025.5.0\n",
            "dask-cuda                             25.6.0\n",
            "dask-cudf-cu12                        25.6.0\n",
            "dataproc-spark-connect                0.8.3\n",
            "datasets                              4.0.0\n",
            "db-dtypes                             1.4.3\n",
            "dbus-python                           1.2.18\n",
            "debugpy                               1.8.15\n",
            "decorator                             4.4.2\n",
            "defusedxml                            0.7.1\n",
            "diffusers                             0.35.1\n",
            "dill                                  0.3.8\n",
            "distributed                           2025.5.0\n",
            "distributed-ucxx-cu12                 0.44.0\n",
            "distro                                1.9.0\n",
            "dlib                                  19.24.6\n",
            "dm-tree                               0.1.9\n",
            "docstring_parser                      0.17.0\n",
            "docutils                              0.21.2\n",
            "dopamine_rl                           4.1.2\n",
            "duckdb                                1.3.2\n",
            "earthengine-api                       1.5.24\n",
            "easydict                              1.13\n",
            "editdistance                          0.8.1\n",
            "eerepr                                0.1.2\n",
            "einops                                0.8.1\n",
            "en_core_web_sm                        3.8.0\n",
            "entrypoints                           0.4\n",
            "et_xmlfile                            2.0.0\n",
            "etils                                 1.13.0\n",
            "etuples                               0.3.10\n",
            "Farama-Notifications                  0.0.4\n",
            "fastai                                2.8.4\n",
            "fastapi                               0.118.2\n",
            "fastcore                              1.8.12\n",
            "fastdownload                          0.0.7\n",
            "fastjsonschema                        2.21.2\n",
            "fastprogress                          1.0.3\n",
            "fastrlock                             0.8.3\n",
            "fasttransform                         0.0.2\n",
            "ffmpy                                 0.6.2\n",
            "filelock                              3.20.0\n",
            "firebase-admin                        6.9.0\n",
            "Flask                                 3.1.2\n",
            "flatbuffers                           25.9.23\n",
            "flax                                  0.10.6\n",
            "folium                                0.20.0\n",
            "fonttools                             4.60.1\n",
            "fqdn                                  1.5.1\n",
            "frozendict                            2.4.6\n",
            "frozenlist                            1.8.0\n",
            "fsspec                                2025.3.0\n",
            "future                                1.0.0\n",
            "gast                                  0.6.0\n",
            "gcsfs                                 2025.3.0\n",
            "GDAL                                  3.8.4\n",
            "gdown                                 5.2.0\n",
            "geemap                                0.35.3\n",
            "geocoder                              1.38.1\n",
            "geographiclib                         2.1\n",
            "geopandas                             1.1.1\n",
            "geopy                                 2.4.1\n",
            "gin-config                            0.5.0\n",
            "gitdb                                 4.0.12\n",
            "GitPython                             3.1.45\n",
            "glob2                                 0.7\n",
            "google                                2.0.3\n",
            "google-adk                            1.14.1\n",
            "google-ai-generativelanguage          0.6.15\n",
            "google-api-core                       2.25.2\n",
            "google-api-python-client              2.184.0\n",
            "google-auth                           2.38.0\n",
            "google-auth-httplib2                  0.2.0\n",
            "google-auth-oauthlib                  1.2.2\n",
            "google-cloud-aiplatform               1.120.0\n",
            "google-cloud-appengine-logging        1.6.2\n",
            "google-cloud-audit-log                0.3.3\n",
            "google-cloud-bigquery                 3.38.0\n",
            "google-cloud-bigquery-connection      1.18.3\n",
            "google-cloud-bigquery-storage         2.33.1\n",
            "google-cloud-bigtable                 2.33.0\n",
            "google-cloud-core                     2.4.3\n",
            "google-cloud-dataproc                 5.22.0\n",
            "google-cloud-datastore                2.21.0\n",
            "google-cloud-firestore                2.21.0\n",
            "google-cloud-functions                1.20.4\n",
            "google-cloud-language                 2.17.2\n",
            "google-cloud-logging                  3.12.1\n",
            "google-cloud-resource-manager         1.14.2\n",
            "google-cloud-secret-manager           2.24.0\n",
            "google-cloud-spanner                  3.58.0\n",
            "google-cloud-speech                   2.33.0\n",
            "google-cloud-storage                  2.19.0\n",
            "google-cloud-trace                    1.16.2\n",
            "google-cloud-translate                3.21.1\n",
            "google-colab                          1.0.0\n",
            "google-crc32c                         1.7.1\n",
            "google-genai                          1.41.0\n",
            "google-generativeai                   0.8.5\n",
            "google-pasta                          0.2.0\n",
            "google-resumable-media                2.7.2\n",
            "googleapis-common-protos              1.70.0\n",
            "googledrivedownloader                 1.1.0\n",
            "gradio                                5.49.0\n",
            "gradio_client                         1.13.3\n",
            "graphviz                              0.21\n",
            "greenlet                              3.2.4\n",
            "groovy                                0.1.2\n",
            "grpc-google-iam-v1                    0.14.2\n",
            "grpc-interceptor                      0.15.4\n",
            "grpcio                                1.75.1\n",
            "grpcio-status                         1.71.2\n",
            "grpclib                               0.4.8\n",
            "gspread                               6.2.1\n",
            "gspread-dataframe                     4.0.0\n",
            "gym                                   0.25.2\n",
            "gym-notices                           0.1.0\n",
            "gymnasium                             1.2.1\n",
            "h11                                   0.16.0\n",
            "h2                                    4.3.0\n",
            "h5netcdf                              1.6.4\n",
            "h5py                                  3.14.0\n",
            "hdbscan                               0.8.40\n",
            "hf_transfer                           0.1.9\n",
            "hf-xet                                1.1.10\n",
            "highspy                               1.11.0\n",
            "holidays                              0.82\n",
            "holoviews                             1.21.0\n",
            "hpack                                 4.1.0\n",
            "html5lib                              1.1\n",
            "httpcore                              1.0.9\n",
            "httpimport                            1.4.1\n",
            "httplib2                              0.31.0\n",
            "httpx                                 0.28.1\n",
            "httpx-sse                             0.4.2\n",
            "huggingface-hub                       0.35.3\n",
            "humanize                              4.13.0\n",
            "hyperframe                            6.1.0\n",
            "hyperopt                              0.2.7\n",
            "ibis-framework                        9.5.0\n",
            "idna                                  3.10\n",
            "imageio                               2.37.0\n",
            "imageio-ffmpeg                        0.6.0\n",
            "imagesize                             1.4.1\n",
            "imbalanced-learn                      0.14.0\n",
            "immutabledict                         4.2.1\n",
            "importlib_metadata                    8.7.0\n",
            "importlib_resources                   6.5.2\n",
            "imutils                               0.5.4\n",
            "inflect                               7.5.0\n",
            "iniconfig                             2.1.0\n",
            "intel-cmplr-lib-ur                    2025.2.1\n",
            "intel-openmp                          2025.2.1\n",
            "ipyevents                             2.0.4\n",
            "ipyfilechooser                        0.6.0\n",
            "ipykernel                             6.17.1\n",
            "ipyleaflet                            0.20.0\n",
            "ipyparallel                           8.8.0\n",
            "ipython                               7.34.0\n",
            "ipython-genutils                      0.2.0\n",
            "ipython-sql                           0.5.0\n",
            "ipytree                               0.2.2\n",
            "ipywidgets                            7.7.1\n",
            "isoduration                           20.11.0\n",
            "itsdangerous                          2.2.0\n",
            "jaraco.classes                        3.4.0\n",
            "jaraco.context                        6.0.1\n",
            "jaraco.functools                      4.3.0\n",
            "jax                                   0.5.3\n",
            "jax-cuda12-pjrt                       0.5.3\n",
            "jax-cuda12-plugin                     0.5.3\n",
            "jaxlib                                0.5.3\n",
            "jeepney                               0.9.0\n",
            "jieba                                 0.42.1\n",
            "Jinja2                                3.1.6\n",
            "jiter                                 0.11.0\n",
            "joblib                                1.5.2\n",
            "jsonpatch                             1.33\n",
            "jsonpickle                            4.1.1\n",
            "jsonpointer                           3.0.0\n",
            "jsonschema                            4.25.1\n",
            "jsonschema-specifications             2025.9.1\n",
            "jupyter_client                        7.4.9\n",
            "jupyter-console                       6.6.3\n",
            "jupyter_core                          5.8.1\n",
            "jupyter-events                        0.12.0\n",
            "jupyter_kernel_gateway                2.5.2\n",
            "jupyter-leaflet                       0.20.0\n",
            "jupyter_server                        2.14.0\n",
            "jupyter_server_terminals              0.5.3\n",
            "jupyterlab_pygments                   0.3.0\n",
            "jupyterlab_widgets                    3.0.15\n",
            "jupytext                              1.17.3\n",
            "kaggle                                1.7.4.5\n",
            "kagglehub                             0.3.13\n",
            "keras                                 3.10.0\n",
            "keras-hub                             0.21.1\n",
            "keras-nlp                             0.21.1\n",
            "keyring                               25.6.0\n",
            "keyrings.google-artifactregistry-auth 1.1.2\n",
            "kiwisolver                            1.4.9\n",
            "langchain                             0.3.27\n",
            "langchain-core                        0.3.78\n",
            "langchain-text-splitters              0.3.11\n",
            "langcodes                             3.5.0\n",
            "langsmith                             0.4.33\n",
            "language_data                         1.3.0\n",
            "lark                                  1.3.0\n",
            "launchpadlib                          1.10.16\n",
            "lazr.restfulclient                    0.14.4\n",
            "lazr.uri                              1.0.6\n",
            "lazy_loader                           0.4\n",
            "libclang                              18.1.1\n",
            "libcudf-cu12                          25.6.0\n",
            "libcugraph-cu12                       25.6.0\n",
            "libcuml-cu12                          25.6.0\n",
            "libcuvs-cu12                          25.6.1\n",
            "libkvikio-cu12                        25.6.0\n",
            "libpysal                              4.13.0\n",
            "libraft-cu12                          25.6.0\n",
            "librmm-cu12                           25.6.0\n",
            "librosa                               0.11.0\n",
            "libucx-cu12                           1.18.1\n",
            "libucxx-cu12                          0.44.0\n",
            "lightgbm                              4.6.0\n",
            "linkify-it-py                         2.0.3\n",
            "llvmlite                              0.43.0\n",
            "locket                                1.0.0\n",
            "logical-unification                   0.4.6\n",
            "lxml                                  5.4.0\n",
            "Mako                                  1.3.10\n",
            "marisa-trie                           1.3.1\n",
            "Markdown                              3.9\n",
            "markdown-it-py                        4.0.0\n",
            "MarkupSafe                            3.0.3\n",
            "matplotlib                            3.10.0\n",
            "matplotlib-inline                     0.1.7\n",
            "matplotlib-venn                       1.1.2\n",
            "mcp                                   1.16.0\n",
            "mdit-py-plugins                       0.5.0\n",
            "mdurl                                 0.1.2\n",
            "miniKanren                            1.0.5\n",
            "missingno                             0.5.2\n",
            "mistune                               3.1.4\n",
            "mizani                                0.13.5\n",
            "mkl                                   2025.2.0\n",
            "ml_dtypes                             0.5.3\n",
            "mlxtend                               0.23.4\n",
            "more-itertools                        10.8.0\n",
            "moviepy                               1.0.3\n",
            "mpmath                                1.3.0\n",
            "msgpack                               1.1.2\n",
            "multidict                             6.7.0\n",
            "multipledispatch                      1.0.0\n",
            "multiprocess                          0.70.16\n",
            "multitasking                          0.0.12\n",
            "murmurhash                            1.0.13\n",
            "music21                               9.3.0\n",
            "namex                                 0.1.0\n",
            "narwhals                              2.7.0\n",
            "natsort                               8.4.0\n",
            "nbclassic                             1.3.3\n",
            "nbclient                              0.10.2\n",
            "nbconvert                             7.16.6\n",
            "nbformat                              5.10.4\n",
            "ndindex                               1.10.0\n",
            "nest-asyncio                          1.6.0\n",
            "networkx                              3.5\n",
            "nibabel                               5.3.2\n",
            "nltk                                  3.9.1\n",
            "notebook                              6.5.7\n",
            "notebook_shim                         0.2.4\n",
            "numba                                 0.60.0\n",
            "numba-cuda                            0.11.0\n",
            "numexpr                               2.13.1\n",
            "numpy                                 2.0.2\n",
            "nvidia-cublas-cu12                    12.6.4.1\n",
            "nvidia-cuda-cupti-cu12                12.6.80\n",
            "nvidia-cuda-nvcc-cu12                 12.5.82\n",
            "nvidia-cuda-nvrtc-cu12                12.6.77\n",
            "nvidia-cuda-runtime-cu12              12.6.77\n",
            "nvidia-cudnn-cu12                     9.10.2.21\n",
            "nvidia-cufft-cu12                     11.3.0.4\n",
            "nvidia-cufile-cu12                    1.11.1.6\n",
            "nvidia-curand-cu12                    10.3.7.77\n",
            "nvidia-cusolver-cu12                  11.7.1.2\n",
            "nvidia-cusparse-cu12                  12.5.4.2\n",
            "nvidia-cusparselt-cu12                0.7.1\n",
            "nvidia-ml-py                          12.575.51\n",
            "nvidia-nccl-cu12                      2.27.3\n",
            "nvidia-nvjitlink-cu12                 12.6.85\n",
            "nvidia-nvtx-cu12                      12.6.77\n",
            "nvtx                                  0.2.13\n",
            "nx-cugraph-cu12                       25.6.0\n",
            "oauth2client                          4.1.3\n",
            "oauthlib                              3.3.1\n",
            "omegaconf                             2.3.0\n",
            "openai                                1.109.1\n",
            "opencv-contrib-python                 4.12.0.88\n",
            "opencv-python                         4.12.0.88\n",
            "opencv-python-headless                4.12.0.88\n",
            "openpyxl                              3.1.5\n",
            "opentelemetry-api                     1.37.0\n",
            "opentelemetry-exporter-gcp-trace      1.9.0\n",
            "opentelemetry-resourcedetector-gcp    1.9.0a0\n",
            "opentelemetry-sdk                     1.37.0\n",
            "opentelemetry-semantic-conventions    0.58b0\n",
            "opt_einsum                            3.4.0\n",
            "optax                                 0.2.6\n",
            "optree                                0.17.0\n",
            "orbax-checkpoint                      0.11.24\n",
            "orjson                                3.11.3\n",
            "osqp                                  1.0.4\n",
            "overrides                             7.7.0\n",
            "packaging                             25.0\n",
            "pandas                                2.2.2\n",
            "pandas-datareader                     0.10.0\n",
            "pandas-gbq                            0.29.2\n",
            "pandas-stubs                          2.2.2.240909\n",
            "pandocfilters                         1.5.1\n",
            "panel                                 1.8.2\n",
            "param                                 2.2.1\n",
            "parso                                 0.8.5\n",
            "parsy                                 2.2\n",
            "partd                                 1.4.2\n",
            "patsy                                 1.0.1\n",
            "peewee                                3.18.2\n",
            "peft                                  0.17.1\n",
            "pexpect                               4.9.0\n",
            "pickleshare                           0.7.5\n",
            "pillow                                11.3.0\n",
            "pip                                   24.1.2\n",
            "platformdirs                          4.5.0\n",
            "plotly                                5.24.1\n",
            "plotnine                              0.14.5\n",
            "pluggy                                1.6.0\n",
            "plum-dispatch                         2.5.8\n",
            "ply                                   3.11\n",
            "polars                                1.25.2\n",
            "pooch                                 1.8.2\n",
            "portpicker                            1.5.2\n",
            "preshed                               3.0.10\n",
            "prettytable                           3.16.0\n",
            "proglog                               0.1.12\n",
            "progressbar2                          4.5.0\n",
            "prometheus_client                     0.23.1\n",
            "promise                               2.3\n",
            "prompt_toolkit                        3.0.52\n",
            "propcache                             0.3.2\n",
            "prophet                               1.1.7\n",
            "proto-plus                            1.26.1\n",
            "protobuf                              5.29.5\n",
            "psutil                                5.9.5\n",
            "psycopg2                              2.9.10\n",
            "psygnal                               0.14.2\n",
            "ptyprocess                            0.7.0\n",
            "py-cpuinfo                            9.0.0\n",
            "py4j                                  0.10.9.7\n",
            "pyarrow                               18.1.0\n",
            "pyasn1                                0.6.1\n",
            "pyasn1_modules                        0.4.2\n",
            "pycairo                               1.28.0\n",
            "pycocotools                           2.0.10\n",
            "pycparser                             2.23\n",
            "pycryptodomex                         3.23.0\n",
            "pydantic                              2.11.10\n",
            "pydantic_core                         2.33.2\n",
            "pydantic-settings                     2.11.0\n",
            "pydata-google-auth                    1.9.1\n",
            "pydot                                 3.0.4\n",
            "pydotplus                             2.0.2\n",
            "PyDrive2                              1.21.3\n",
            "pydub                                 0.25.1\n",
            "pyerfa                                2.0.1.5\n",
            "pygame                                2.6.1\n",
            "pygit2                                1.18.2\n",
            "Pygments                              2.19.2\n",
            "PyGObject                             3.42.0\n",
            "PyJWT                                 2.10.1\n",
            "pylibcudf-cu12                        25.6.0\n",
            "pylibcugraph-cu12                     25.6.0\n",
            "pylibraft-cu12                        25.6.0\n",
            "pymc                                  5.25.1\n",
            "pynndescent                           0.5.13\n",
            "pynvjitlink-cu12                      0.7.0\n",
            "pynvml                                12.0.0\n",
            "pyogrio                               0.11.1\n",
            "pyomo                                 6.9.4\n",
            "PyOpenGL                              3.1.10\n",
            "pyOpenSSL                             24.2.1\n",
            "pyparsing                             3.2.5\n",
            "pyperclip                             1.11.0\n",
            "pyproj                                3.7.2\n",
            "pyproject_hooks                       1.2.0\n",
            "pyshp                                 2.3.1\n",
            "PySocks                               1.7.1\n",
            "pyspark                               3.5.1\n",
            "pytensor                              2.31.7\n",
            "pytest                                8.4.2\n",
            "python-apt                            0.0.0\n",
            "python-box                            7.3.2\n",
            "python-dateutil                       2.9.0.post0\n",
            "python-dotenv                         1.1.1\n",
            "python-json-logger                    4.0.0\n",
            "python-louvain                        0.16\n",
            "python-multipart                      0.0.20\n",
            "python-slugify                        8.0.4\n",
            "python-snappy                         0.7.3\n",
            "python-utils                          3.9.1\n",
            "pytz                                  2025.2\n",
            "pyviz_comms                           3.0.6\n",
            "PyWavelets                            1.9.0\n",
            "PyYAML                                6.0.3\n",
            "pyzmq                                 26.2.1\n",
            "raft-dask-cu12                        25.6.0\n",
            "rapids-dask-dependency                25.6.0\n",
            "rapids-logger                         0.1.1\n",
            "ratelim                               0.1.6\n",
            "referencing                           0.36.2\n",
            "regex                                 2024.11.6\n",
            "requests                              2.32.4\n",
            "requests-oauthlib                     2.0.0\n",
            "requests-toolbelt                     1.0.0\n",
            "requirements-parser                   0.9.0\n",
            "rfc3339-validator                     0.1.4\n",
            "rfc3986-validator                     0.1.1\n",
            "rfc3987-syntax                        1.1.0\n",
            "rich                                  13.9.4\n",
            "rmm-cu12                              25.6.0\n",
            "roman-numerals-py                     3.1.0\n",
            "rpds-py                               0.27.1\n",
            "rpy2                                  3.5.17\n",
            "rsa                                   4.9.1\n",
            "ruff                                  0.14.0\n",
            "safehttpx                             0.1.6\n",
            "safetensors                           0.6.2\n",
            "scikit-image                          0.25.2\n",
            "scikit-learn                          1.6.1\n",
            "scipy                                 1.16.2\n",
            "scooby                                0.10.2\n",
            "scs                                   3.2.8\n",
            "seaborn                               0.13.2\n",
            "SecretStorage                         3.4.0\n",
            "semantic-version                      2.10.0\n",
            "Send2Trash                            1.8.3\n",
            "sentence-transformers                 5.1.1\n",
            "sentencepiece                         0.2.1\n",
            "sentry-sdk                            2.40.0\n",
            "setuptools                            75.2.0\n",
            "shap                                  0.48.0\n",
            "shapely                               2.1.2\n",
            "shellingham                           1.5.4\n",
            "simple-parsing                        0.1.7\n",
            "simplejson                            3.20.2\n",
            "simsimd                               6.5.3\n",
            "six                                   1.17.0\n",
            "sklearn-pandas                        2.2.0\n",
            "slicer                                0.0.8\n",
            "smart_open                            7.3.1\n",
            "smmap                                 5.0.2\n",
            "sniffio                               1.3.1\n",
            "snowballstemmer                       3.0.1\n",
            "sortedcontainers                      2.4.0\n",
            "soundfile                             0.13.1\n",
            "soupsieve                             2.8\n",
            "soxr                                  1.0.0\n",
            "spacy                                 3.8.7\n",
            "spacy-legacy                          3.0.12\n",
            "spacy-loggers                         1.0.5\n",
            "spanner-graph-notebook                1.1.8\n",
            "Sphinx                                8.2.3\n",
            "sphinxcontrib-applehelp               2.0.0\n",
            "sphinxcontrib-devhelp                 2.0.0\n",
            "sphinxcontrib-htmlhelp                2.1.0\n",
            "sphinxcontrib-jsmath                  1.0.1\n",
            "sphinxcontrib-qthelp                  2.0.0\n",
            "sphinxcontrib-serializinghtml         2.0.0\n",
            "SQLAlchemy                            2.0.43\n",
            "sqlalchemy-spanner                    1.16.0\n",
            "sqlglot                               25.20.2\n",
            "sqlparse                              0.5.3\n",
            "srsly                                 2.5.1\n",
            "sse-starlette                         3.0.2\n",
            "stanio                                0.5.1\n",
            "starlette                             0.48.0\n",
            "statsmodels                           0.14.5\n",
            "stringzilla                           4.2.0\n",
            "stumpy                                1.13.0\n",
            "sympy                                 1.13.3\n",
            "tables                                3.10.2\n",
            "tabulate                              0.9.0\n",
            "tbb                                   2022.2.0\n",
            "tblib                                 3.1.0\n",
            "tcmlib                                1.4.0\n",
            "tenacity                              8.5.0\n",
            "tensorboard                           2.19.0\n",
            "tensorboard-data-server               0.7.2\n",
            "tensorflow                            2.19.0\n",
            "tensorflow-datasets                   4.9.9\n",
            "tensorflow_decision_forests           1.12.0\n",
            "tensorflow-hub                        0.16.1\n",
            "tensorflow-metadata                   1.17.2\n",
            "tensorflow-probability                0.25.0\n",
            "tensorflow-text                       2.19.0\n",
            "tensorstore                           0.1.78\n",
            "termcolor                             3.1.0\n",
            "terminado                             0.18.1\n",
            "text-unidecode                        1.3\n",
            "textblob                              0.19.0\n",
            "tf_keras                              2.19.0\n",
            "tf-slim                               1.1.0\n",
            "thinc                                 8.3.6\n",
            "threadpoolctl                         3.6.0\n",
            "tifffile                              2025.10.4\n",
            "tiktoken                              0.12.0\n",
            "timm                                  1.0.20\n",
            "tinycss2                              1.4.0\n",
            "tokenizers                            0.22.1\n",
            "toml                                  0.10.2\n",
            "tomlkit                               0.13.3\n",
            "toolz                                 0.12.1\n",
            "torch                                 2.8.0+cu126\n",
            "torchao                               0.10.0\n",
            "torchaudio                            2.8.0+cu126\n",
            "torchdata                             0.11.0\n",
            "torchsummary                          1.5.1\n",
            "torchtune                             0.6.1\n",
            "torchvision                           0.23.0+cu126\n",
            "tornado                               6.4.2\n",
            "tqdm                                  4.67.1\n",
            "traitlets                             5.7.1\n",
            "traittypes                            0.2.1\n",
            "transformers                          4.57.0\n",
            "treelite                              4.4.1\n",
            "treescope                             0.1.10\n",
            "triton                                3.4.0\n",
            "tsfresh                               0.21.1\n",
            "tweepy                                4.16.0\n",
            "typeguard                             4.4.4\n",
            "typer                                 0.19.2\n",
            "types-python-dateutil                 2.9.0.20251008\n",
            "types-pytz                            2025.2.0.20250809\n",
            "types-setuptools                      80.9.0.20250822\n",
            "typing_extensions                     4.15.0\n",
            "typing-inspection                     0.4.2\n",
            "tzdata                                2025.2\n",
            "tzlocal                               5.3.1\n",
            "uc-micro-py                           1.0.3\n",
            "ucx-py-cu12                           0.44.0\n",
            "ucxx-cu12                             0.44.0\n",
            "umap-learn                            0.5.9.post2\n",
            "umf                                   0.11.0\n",
            "uri-template                          1.3.0\n",
            "uritemplate                           4.2.0\n",
            "urllib3                               2.5.0\n",
            "uvicorn                               0.37.0\n",
            "vega-datasets                         0.9.0\n",
            "wadllib                               1.3.6\n",
            "wandb                                 0.22.2\n",
            "wasabi                                1.1.3\n",
            "watchdog                              6.0.0\n",
            "wcwidth                               0.2.14\n",
            "weasel                                0.4.1\n",
            "webcolors                             24.11.1\n",
            "webencodings                          0.5.1\n",
            "websocket-client                      1.9.0\n",
            "websockets                            15.0.1\n",
            "Werkzeug                              3.1.3\n",
            "wheel                                 0.45.1\n",
            "widgetsnbextension                    3.6.10\n",
            "wordcloud                             1.9.4\n",
            "wrapt                                 1.17.3\n",
            "wurlitzer                             3.1.1\n",
            "xarray                                2025.10.1\n",
            "xarray-einstats                       0.9.1\n",
            "xgboost                               3.0.5\n",
            "xlrd                                  2.0.2\n",
            "xxhash                                3.6.0\n",
            "xyzservices                           2025.4.0\n",
            "yarl                                  1.22.0\n",
            "ydf                                   0.13.0\n",
            "yellowbrick                           1.5\n",
            "yfinance                              0.2.66\n",
            "zict                                  3.0.0\n",
            "zipp                                  3.23.0\n",
            "zstandard                             0.25.0\n"
          ]
        }
      ]
    },
    {
      "cell_type": "markdown",
      "source": [
        "# **14. Requests**"
      ],
      "metadata": {
        "id": "V401IqP5J_aU"
      }
    },
    {
      "cell_type": "code",
      "source": [
        "import requests\n",
        "requests.get??"
      ],
      "metadata": {
        "id": "v8i93nmEXxDA"
      },
      "execution_count": 62,
      "outputs": []
    },
    {
      "cell_type": "code",
      "source": [
        "joke_url = 'https://icanhazdadjoke.com'"
      ],
      "metadata": {
        "id": "fErY6ZGYnzWi"
      },
      "execution_count": 63,
      "outputs": []
    },
    {
      "cell_type": "code",
      "source": [
        "my_header = {'Accept':'application/json'} #This ensures the server returns data in JSON, which is easy to parse in Python.\n",
        "results = requests.get(joke_url,headers=my_header)\n",
        "json_results = results.json()\n",
        "print(json_results)\n",
        "print(results)"
      ],
      "metadata": {
        "id": "--LOkcKLoiBh",
        "outputId": "dcaa302b-6097-4383-a1e0-7a770d4029d6",
        "colab": {
          "base_uri": "https://localhost:8080/"
        }
      },
      "execution_count": 64,
      "outputs": [
        {
          "output_type": "stream",
          "name": "stdout",
          "text": [
            "{'id': '3w5wAIRZTnb', 'joke': 'A police officer caught two kids playing with a firework and a car battery. He charged one and let the other one off.', 'status': 200}\n",
            "<Response [200]>\n"
          ]
        }
      ]
    },
    {
      "cell_type": "markdown",
      "source": [
        "# **15. Kwargs and args difference**"
      ],
      "metadata": {
        "id": "jC98ES35nWau"
      }
    },
    {
      "cell_type": "markdown",
      "source": [
        "In Python, *args and **kwargs are special syntaxes used in function definitions to allow a function to accept a variable number of arguments. They provide flexibility when the exact number or names of arguments passed to a function are unknown at the time of definition."
      ],
      "metadata": {
        "id": "4uVcwfkhnak_"
      }
    },
    {
      "cell_type": "markdown",
      "source": [
        "*args (Arbitrary Positional Arguments):\n",
        "The *args syntax allows a function to accept an arbitrary number of positional arguments.\n",
        "When *args is used as a parameter in a function definition, any additional positional arguments passed during the function call are collected into a tuple within the function.\n",
        "The name args is a convention; any other valid identifier with a single asterisk (*) prefix can be used."
      ],
      "metadata": {
        "id": "XFJjNpQOncY9"
      }
    },
    {
      "cell_type": "code",
      "source": [
        "def my_function(*args):\n",
        "    for arg in args:\n",
        "        print(arg)\n",
        "\n",
        "my_function(1, 2, 3, \"hello\")\n",
        "# Output:\n",
        "# 1\n",
        "# 2\n",
        "# 3\n",
        "# hello"
      ],
      "metadata": {
        "id": "Oiqoe8PBnhJX",
        "outputId": "d6d37ee7-cb9a-4907-f2e3-8493afb46a80",
        "colab": {
          "base_uri": "https://localhost:8080/"
        }
      },
      "execution_count": 65,
      "outputs": [
        {
          "output_type": "stream",
          "name": "stdout",
          "text": [
            "1\n",
            "2\n",
            "3\n",
            "hello\n"
          ]
        }
      ]
    },
    {
      "cell_type": "markdown",
      "source": [
        "In Python, **kwargs is a special syntax used in function definitions to allow a function to accept an arbitrary number of keyword arguments. The kwargs part is a conventional name (short for \"keyword arguments\"), but any valid variable name prefixed with two asterisks (**) can be used.\n",
        "How it works:\n",
        "Variable-length keyword arguments: When **kwargs is included in a function's parameter list, it collects all keyword arguments passed to the function that are not explicitly defined as parameters.\n",
        "Dictionary creation: These collected keyword arguments are then packed into a dictionary within the function. The keys of this dictionary are the names of the keyword arguments, and the values are their corresponding values.\n",
        "Flexibility: This mechanism provides flexibility, enabling functions to handle a varying number of named inputs without needing to define each parameter individually."
      ],
      "metadata": {
        "id": "ekvIsFZ7mw_j"
      }
    },
    {
      "cell_type": "code",
      "source": [
        "def print_details(**kwargs):\n",
        "    print(\"Received keyword arguments:\")\n",
        "    for key, value in kwargs.items():\n",
        "        print(f\"{key}: {value}\") #format string\n",
        "\n",
        "# Calling the function with different keyword arguments\n",
        "print_details(name=\"Alice\", age=30, city=\"New York\")\n",
        "print(\"-\" * 20)\n",
        "print_details(product=\"Laptop\", price=1200)"
      ],
      "metadata": {
        "id": "gOy_teXjmyR8",
        "outputId": "6f361533-14e2-4713-cddf-1fdf8ca7e65c",
        "colab": {
          "base_uri": "https://localhost:8080/"
        }
      },
      "execution_count": 66,
      "outputs": [
        {
          "output_type": "stream",
          "name": "stdout",
          "text": [
            "Received keyword arguments:\n",
            "name: Alice\n",
            "age: 30\n",
            "city: New York\n",
            "--------------------\n",
            "Received keyword arguments:\n",
            "product: Laptop\n",
            "price: 1200\n"
          ]
        }
      ]
    },
    {
      "cell_type": "markdown",
      "source": [
        "# **16. Working with files**"
      ],
      "metadata": {
        "id": "tIN8sOKJJf8T"
      }
    },
    {
      "cell_type": "code",
      "source": [
        "#writing to a file\n",
        "# with statements helps work with resources like streams. Handles exceptions and make sures stream is closed with no longer needed\n",
        "with open('misson_journal.txt','w') as f:\n",
        "  f.write('test')"
      ],
      "metadata": {
        "id": "JgImkW0lJfHq"
      },
      "execution_count": 67,
      "outputs": []
    },
    {
      "cell_type": "code",
      "source": [
        "open??\n"
      ],
      "metadata": {
        "id": "SwxEMxGzL5jk"
      },
      "execution_count": 68,
      "outputs": []
    },
    {
      "cell_type": "code",
      "source": [
        "with open('misson_journal.txt','r') as f:\n",
        "  print(f)\n",
        "  print(f.read())"
      ],
      "metadata": {
        "id": "A6W5h9f6N4-E",
        "outputId": "8688ea66-2288-43bc-f700-5a6066c37cf9",
        "colab": {
          "base_uri": "https://localhost:8080/"
        }
      },
      "execution_count": 69,
      "outputs": [
        {
          "output_type": "stream",
          "name": "stdout",
          "text": [
            "<_io.TextIOWrapper name='misson_journal.txt' mode='r' encoding='utf-8'>\n",
            "test\n"
          ]
        }
      ]
    },
    {
      "cell_type": "markdown",
      "source": [
        "# **17. Error handling**"
      ],
      "metadata": {
        "id": "OkS3tUmCP4n5"
      }
    },
    {
      "cell_type": "code",
      "source": [
        "new_set = {1,2,3,4,5,6}\n",
        "new_set[4] = 7"
      ],
      "metadata": {
        "id": "Oo0re8iSPzVF",
        "outputId": "a861bb82-8076-440f-ba27-565f98ae8c01",
        "colab": {
          "base_uri": "https://localhost:8080/",
          "height": 158
        }
      },
      "execution_count": 70,
      "outputs": [
        {
          "output_type": "error",
          "ename": "TypeError",
          "evalue": "'set' object does not support item assignment",
          "traceback": [
            "\u001b[0;31m---------------------------------------------------------------------------\u001b[0m",
            "\u001b[0;31mTypeError\u001b[0m                                 Traceback (most recent call last)",
            "\u001b[0;32m/tmp/ipython-input-3857999419.py\u001b[0m in \u001b[0;36m<cell line: 0>\u001b[0;34m()\u001b[0m\n\u001b[1;32m      1\u001b[0m \u001b[0mnew_set\u001b[0m \u001b[0;34m=\u001b[0m \u001b[0;34m{\u001b[0m\u001b[0;36m1\u001b[0m\u001b[0;34m,\u001b[0m\u001b[0;36m2\u001b[0m\u001b[0;34m,\u001b[0m\u001b[0;36m3\u001b[0m\u001b[0;34m,\u001b[0m\u001b[0;36m4\u001b[0m\u001b[0;34m,\u001b[0m\u001b[0;36m5\u001b[0m\u001b[0;34m,\u001b[0m\u001b[0;36m6\u001b[0m\u001b[0;34m}\u001b[0m\u001b[0;34m\u001b[0m\u001b[0;34m\u001b[0m\u001b[0m\n\u001b[0;32m----> 2\u001b[0;31m \u001b[0mnew_set\u001b[0m\u001b[0;34m[\u001b[0m\u001b[0;36m4\u001b[0m\u001b[0;34m]\u001b[0m \u001b[0;34m=\u001b[0m \u001b[0;36m7\u001b[0m\u001b[0;34m\u001b[0m\u001b[0;34m\u001b[0m\u001b[0m\n\u001b[0m",
            "\u001b[0;31mTypeError\u001b[0m: 'set' object does not support item assignment"
          ]
        }
      ]
    },
    {
      "cell_type": "code",
      "source": [
        "try:\n",
        "  new_set = {1,2,3,4,5,6}\n",
        "  new_set[4] = 7\n",
        "except Exception as e:\n",
        "  print('Something went wrong with your request')"
      ],
      "metadata": {
        "id": "pMZcJSjKQ5x_",
        "outputId": "9001d50b-6bc8-4903-bff5-cce5911533c5",
        "colab": {
          "base_uri": "https://localhost:8080/"
        }
      },
      "execution_count": 71,
      "outputs": [
        {
          "output_type": "stream",
          "name": "stdout",
          "text": [
            "Something went wrong with your request\n"
          ]
        }
      ]
    },
    {
      "cell_type": "markdown",
      "source": [
        "# **18. Math Functions**"
      ],
      "metadata": {
        "id": "iuwFrdTQS81S"
      }
    },
    {
      "cell_type": "markdown",
      "source": [
        "In Python, the modulus operator, denoted by the percent sign (%), is used to calculate the remainder of a division operation.\n"
      ],
      "metadata": {
        "id": "AU1faQCvU3Jz"
      }
    },
    {
      "cell_type": "code",
      "source": [
        "#power\n",
        "2 ** 3"
      ],
      "metadata": {
        "id": "2oR8_L1PVSQ4",
        "outputId": "ad1da6c7-3bd2-493b-9f4d-9fa6ad0283ba",
        "colab": {
          "base_uri": "https://localhost:8080/"
        }
      },
      "execution_count": 72,
      "outputs": [
        {
          "output_type": "execute_result",
          "data": {
            "text/plain": [
              "8"
            ]
          },
          "metadata": {},
          "execution_count": 72
        }
      ]
    },
    {
      "cell_type": "code",
      "source": [
        "print(round(12.11123232,2))\n",
        "print(round(12.11123232,3))"
      ],
      "metadata": {
        "id": "_rkJoiO_VlaS",
        "outputId": "22a2f4ec-3e5f-47a4-d012-185042791d92",
        "colab": {
          "base_uri": "https://localhost:8080/"
        }
      },
      "execution_count": 73,
      "outputs": [
        {
          "output_type": "stream",
          "name": "stdout",
          "text": [
            "12.11\n",
            "12.111\n"
          ]
        }
      ]
    },
    {
      "cell_type": "markdown",
      "source": [
        "In Python, abs() is a built-in function that returns the absolute value of a number. The absolute value of a number is its magnitude, or its distance from zero on the number line, regardless of its sign. This means that for a positive number, abs() returns the number itself, and for a negative number, it returns the positive equivalent of that number. For complex numbers, abs() returns their magnitude."
      ],
      "metadata": {
        "id": "v-mzQyOJWAK-"
      }
    },
    {
      "cell_type": "code",
      "source": [
        "print(abs(-11))\n",
        "print(abs(11))"
      ],
      "metadata": {
        "id": "WIoTTvnOWBtj",
        "outputId": "f86105c5-119b-4abd-dbb9-3f448078b242",
        "colab": {
          "base_uri": "https://localhost:8080/"
        }
      },
      "execution_count": 74,
      "outputs": [
        {
          "output_type": "stream",
          "name": "stdout",
          "text": [
            "11\n",
            "11\n"
          ]
        }
      ]
    },
    {
      "cell_type": "code",
      "source": [
        "#math package\n",
        "import math\n",
        "math.cos(90)"
      ],
      "metadata": {
        "id": "SfXujzYdWyBR",
        "outputId": "67f87499-cb41-4d00-e278-cd462c869a58",
        "colab": {
          "base_uri": "https://localhost:8080/"
        }
      },
      "execution_count": 75,
      "outputs": [
        {
          "output_type": "execute_result",
          "data": {
            "text/plain": [
              "-0.4480736161291701"
            ]
          },
          "metadata": {},
          "execution_count": 75
        }
      ]
    },
    {
      "cell_type": "markdown",
      "source": [
        "# **19. OS Module**"
      ],
      "metadata": {
        "id": "oqmlOy0T9RU1"
      }
    },
    {
      "cell_type": "code",
      "source": [
        "import os\n",
        "os.getcwd()"
      ],
      "metadata": {
        "id": "rLsAkqn69Qvk",
        "outputId": "a62556b5-8863-4c10-ee22-5bd7eec466d9",
        "colab": {
          "base_uri": "https://localhost:8080/",
          "height": 36
        }
      },
      "execution_count": 76,
      "outputs": [
        {
          "output_type": "execute_result",
          "data": {
            "text/plain": [
              "'/content'"
            ],
            "application/vnd.google.colaboratory.intrinsic+json": {
              "type": "string"
            }
          },
          "metadata": {},
          "execution_count": 76
        }
      ]
    },
    {
      "cell_type": "code",
      "source": [
        "os.listdir()"
      ],
      "metadata": {
        "id": "ms2m63uu9cfA",
        "outputId": "42b554f7-3968-4b8c-9951-ad3f155256a7",
        "colab": {
          "base_uri": "https://localhost:8080/"
        }
      },
      "execution_count": 77,
      "outputs": [
        {
          "output_type": "execute_result",
          "data": {
            "text/plain": [
              "['.config', '__pycache__', 'misson_journal.txt', 'helpers.py', 'sample_data']"
            ]
          },
          "metadata": {},
          "execution_count": 77
        }
      ]
    },
    {
      "cell_type": "code",
      "source": [
        "os.makedirs('new folder')"
      ],
      "metadata": {
        "id": "N_2YLobj9q2Q"
      },
      "execution_count": 78,
      "outputs": []
    },
    {
      "cell_type": "code",
      "source": [
        "os.listdir()"
      ],
      "metadata": {
        "id": "-f3RisjN9woB",
        "outputId": "3b841540-363f-4efb-cecd-38d4cf53b211",
        "colab": {
          "base_uri": "https://localhost:8080/"
        }
      },
      "execution_count": 79,
      "outputs": [
        {
          "output_type": "execute_result",
          "data": {
            "text/plain": [
              "['.config',\n",
              " '__pycache__',\n",
              " 'misson_journal.txt',\n",
              " 'helpers.py',\n",
              " 'new folder',\n",
              " 'sample_data']"
            ]
          },
          "metadata": {},
          "execution_count": 79
        }
      ]
    }
  ]
}