{
  "nbformat": 4,
  "nbformat_minor": 0,
  "metadata": {
    "colab": {
      "provenance": [],
      "authorship_tag": "ABX9TyOMFEZWcGTHG0mz6D6K2/WG",
      "include_colab_link": true
    },
    "kernelspec": {
      "name": "python3",
      "display_name": "Python 3"
    },
    "language_info": {
      "name": "python"
    }
  },
  "cells": [
    {
      "cell_type": "markdown",
      "metadata": {
        "id": "view-in-github",
        "colab_type": "text"
      },
      "source": [
        "<a href=\"https://colab.research.google.com/github/NehaChethan/dataScienceProjects/blob/main/python_tutorial.ipynb\" target=\"_parent\"><img src=\"https://colab.research.google.com/assets/colab-badge.svg\" alt=\"Open In Colab\"/></a>"
      ]
    },
    {
      "cell_type": "code",
      "execution_count": 1,
      "metadata": {
        "colab": {
          "base_uri": "https://localhost:8080/"
        },
        "id": "0IPZuu_HQx7Q",
        "outputId": "a291e54e-3ff2-46a8-bddb-bcc8b0656420"
      },
      "outputs": [
        {
          "output_type": "stream",
          "name": "stdout",
          "text": [
            "hello\n"
          ]
        }
      ],
      "source": [
        "print(\"hello 123\")"
      ]
    },
    {
      "cell_type": "code",
      "source": [
        "''' shortcuts :\n",
        " # 1. a : add a cell above\n",
        " # 2. b : add a cell above\n",
        " # 3. m : conver the cell to markdown\n",
        " # 4. y: convert cell to code\n",
        " # 5. dd: delete cell\n",
        " # 6. shift + enter is used to run the cell\n",
        " '''\n",
        "#Using triple-quoted string literals: Triple single quotes (''') or triple double quotes (\"\"\") can be used to enclose a multi-line string. If this string is not assigned to a variable or used in an expression, the Python interpreter will ignore it, effectively treating it as a multi-line comment."
      ],
      "metadata": {
        "colab": {
          "base_uri": "https://localhost:8080/",
          "height": 53
        },
        "id": "rodYyurXSYti",
        "outputId": "5db681e6-cf5d-47b0-9e71-dde58b3ba047"
      },
      "execution_count": 2,
      "outputs": [
        {
          "output_type": "execute_result",
          "data": {
            "text/plain": [
              "' shortcuts :\\n # 1. a : add a cell above\\n # 2. b : add a cell above\\n # 3. m : conver the cell to markdown\\n # 4. y: convert cell to code\\n # 5. dd: delete cell\\n # 6. shift + enter is used to run the cell\\n '"
            ],
            "application/vnd.google.colaboratory.intrinsic+json": {
              "type": "string"
            }
          },
          "metadata": {},
          "execution_count": 2
        }
      ]
    },
    {
      "cell_type": "code",
      "source": [
        "'''\n",
        " 1. h1 heading: #\n",
        " 2. h2 heading: ##\n",
        "'''"
      ],
      "metadata": {
        "colab": {
          "base_uri": "https://localhost:8080/",
          "height": 36
        },
        "id": "SF_lyrHPScNb",
        "outputId": "ea120a93-7191-4e46-a13f-f3943f931502"
      },
      "execution_count": 3,
      "outputs": [
        {
          "output_type": "execute_result",
          "data": {
            "text/plain": [
              "'\\n 1. h1 heading: #\\n 2. h2 heading: ##\\n'"
            ],
            "application/vnd.google.colaboratory.intrinsic+json": {
              "type": "string"
            }
          },
          "metadata": {},
          "execution_count": 3
        }
      ]
    },
    {
      "cell_type": "code",
      "source": [
        "# To get a documentation of a particular function use '??'\n",
        "print??"
      ],
      "metadata": {
        "id": "Vs_knVD6Sezh"
      },
      "execution_count": 4,
      "outputs": []
    },
    {
      "cell_type": "markdown",
      "source": [],
      "metadata": {
        "id": "bcrKZ0QNVr75"
      }
    },
    {
      "cell_type": "markdown",
      "source": [
        "**Variables**"
      ],
      "metadata": {
        "id": "5JGVlVF9VtsR"
      }
    },
    {
      "cell_type": "code",
      "source": [
        "test = 'test'"
      ],
      "metadata": {
        "id": "ygbZIOtAVx2w"
      },
      "execution_count": 7,
      "outputs": []
    },
    {
      "cell_type": "markdown",
      "source": [
        "**Check data type**"
      ],
      "metadata": {
        "id": "2nSlbBacWNMA"
      }
    },
    {
      "cell_type": "code",
      "source": [
        "type(test)"
      ],
      "metadata": {
        "colab": {
          "base_uri": "https://localhost:8080/"
        },
        "id": "SZWOxmxQWYsR",
        "outputId": "3be4a523-e7ee-4d9e-834e-50025a3dc613"
      },
      "execution_count": 8,
      "outputs": [
        {
          "output_type": "execute_result",
          "data": {
            "text/plain": [
              "str"
            ]
          },
          "metadata": {},
          "execution_count": 8
        }
      ]
    },
    {
      "cell_type": "markdown",
      "source": [
        "Data Types"
      ],
      "metadata": {
        "id": "zInikCsqXZpr"
      }
    },
    {
      "cell_type": "code",
      "source": [
        "string_variable = 'string'\n",
        "integer_variable = 123\n",
        "float_variable = 12.31\n",
        "# boolean variable\n",
        "true_variable = True\n",
        "false_variable = False\n"
      ],
      "metadata": {
        "id": "1Q62ExutXMU4"
      },
      "execution_count": 9,
      "outputs": []
    },
    {
      "cell_type": "code",
      "source": [
        "type_casting_variable_str = str(123)\n",
        "print(type(type_casting_variable_str))\n",
        "\n",
        "type_casting_variable_int = int('1234')\n",
        "print(type(type_casting_variable_int))\n",
        "\n",
        "type_casting_variable_float = float(123)\n",
        "print(type(type_casting_variable_float))\n",
        "\n",
        "type_casting_variable_boolean = bool(0)\n",
        "print(type(type_casting_variable_boolean))"
      ],
      "metadata": {
        "colab": {
          "base_uri": "https://localhost:8080/"
        },
        "id": "nJwvxlAkaEQu",
        "outputId": "bbda2bef-85dd-4fd4-e174-21fef9dbcad1"
      },
      "execution_count": 13,
      "outputs": [
        {
          "output_type": "stream",
          "name": "stdout",
          "text": [
            "<class 'str'>\n",
            "<class 'int'>\n",
            "<class 'float'>\n",
            "<class 'bool'>\n"
          ]
        }
      ]
    }
  ]
}