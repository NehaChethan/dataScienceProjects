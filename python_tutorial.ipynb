{
  "nbformat": 4,
  "nbformat_minor": 0,
  "metadata": {
    "colab": {
      "provenance": [],
      "include_colab_link": true
    },
    "kernelspec": {
      "name": "python3",
      "display_name": "Python 3"
    },
    "language_info": {
      "name": "python"
    }
  },
  "cells": [
    {
      "cell_type": "markdown",
      "metadata": {
        "id": "view-in-github",
        "colab_type": "text"
      },
      "source": [
        "<a href=\"https://colab.research.google.com/github/NehaChethan/dataScienceProjects/blob/main/python_tutorial.ipynb\" target=\"_parent\"><img src=\"https://colab.research.google.com/assets/colab-badge.svg\" alt=\"Open In Colab\"/></a>"
      ]
    },
    {
      "cell_type": "markdown",
      "source": [
        "https://www.youtube.com/watch?v=yGN28LY5VuA&t=403s"
      ],
      "metadata": {
        "id": "Ha7VvVKp2S1i"
      }
    },
    {
      "cell_type": "code",
      "execution_count": null,
      "metadata": {
        "colab": {
          "base_uri": "https://localhost:8080/"
        },
        "id": "0IPZuu_HQx7Q",
        "outputId": "a291e54e-3ff2-46a8-bddb-bcc8b0656420"
      },
      "outputs": [
        {
          "output_type": "stream",
          "name": "stdout",
          "text": [
            "hello\n"
          ]
        }
      ],
      "source": [
        "print(\"hello 123\")"
      ]
    },
    {
      "cell_type": "code",
      "source": [
        "''' shortcuts :\n",
        " # 1. a : add a cell above\n",
        " # 2. b : add a cell above\n",
        " # 3. m : conver the cell to markdown\n",
        " # 4. y: convert cell to code\n",
        " # 5. dd: delete cell\n",
        " # 6. shift + enter is used to run the cell\n",
        " '''\n",
        "#Using triple-quoted string literals: Triple single quotes (''') or triple double quotes (\"\"\") can be used to enclose a multi-line string. If this string is not assigned to a variable or used in an expression, the Python interpreter will ignore it, effectively treating it as a multi-line comment."
      ],
      "metadata": {
        "colab": {
          "base_uri": "https://localhost:8080/",
          "height": 53
        },
        "id": "rodYyurXSYti",
        "outputId": "5db681e6-cf5d-47b0-9e71-dde58b3ba047"
      },
      "execution_count": null,
      "outputs": [
        {
          "output_type": "execute_result",
          "data": {
            "text/plain": [
              "' shortcuts :\\n # 1. a : add a cell above\\n # 2. b : add a cell above\\n # 3. m : conver the cell to markdown\\n # 4. y: convert cell to code\\n # 5. dd: delete cell\\n # 6. shift + enter is used to run the cell\\n '"
            ],
            "application/vnd.google.colaboratory.intrinsic+json": {
              "type": "string"
            }
          },
          "metadata": {},
          "execution_count": 2
        }
      ]
    },
    {
      "cell_type": "code",
      "source": [
        "'''\n",
        " 1. h1 heading: #\n",
        " 2. h2 heading: ##\n",
        "'''"
      ],
      "metadata": {
        "colab": {
          "base_uri": "https://localhost:8080/",
          "height": 36
        },
        "id": "SF_lyrHPScNb",
        "outputId": "ea120a93-7191-4e46-a13f-f3943f931502"
      },
      "execution_count": null,
      "outputs": [
        {
          "output_type": "execute_result",
          "data": {
            "text/plain": [
              "'\\n 1. h1 heading: #\\n 2. h2 heading: ##\\n'"
            ],
            "application/vnd.google.colaboratory.intrinsic+json": {
              "type": "string"
            }
          },
          "metadata": {},
          "execution_count": 3
        }
      ]
    },
    {
      "cell_type": "code",
      "source": [
        "# To get a documentation of a particular function use '??'\n",
        "print??"
      ],
      "metadata": {
        "id": "Vs_knVD6Sezh"
      },
      "execution_count": null,
      "outputs": []
    },
    {
      "cell_type": "markdown",
      "source": [],
      "metadata": {
        "id": "bcrKZ0QNVr75"
      }
    },
    {
      "cell_type": "markdown",
      "source": [
        "**Variables**"
      ],
      "metadata": {
        "id": "5JGVlVF9VtsR"
      }
    },
    {
      "cell_type": "code",
      "source": [
        "test = 'test'"
      ],
      "metadata": {
        "id": "ygbZIOtAVx2w"
      },
      "execution_count": null,
      "outputs": []
    },
    {
      "cell_type": "markdown",
      "source": [
        "**Check data type**"
      ],
      "metadata": {
        "id": "2nSlbBacWNMA"
      }
    },
    {
      "cell_type": "markdown",
      "source": [
        "Rules for writing a variable\n",
        "\n",
        "1.   Variable names can only contain letters, digits and underscores (_).\n",
        "2.   A variable name cannot start with a digit.\n",
        "3.   Variable names are case-sensitive (myVar and myvar are different).\n",
        "4.   Avoid using Python keywords (e.g., if, else, for) as variable names."
      ],
      "metadata": {
        "id": "lwEFK-S-q-sF"
      }
    },
    {
      "cell_type": "code",
      "source": [
        "type(test)"
      ],
      "metadata": {
        "colab": {
          "base_uri": "https://localhost:8080/"
        },
        "id": "SZWOxmxQWYsR",
        "outputId": "3be4a523-e7ee-4d9e-834e-50025a3dc613"
      },
      "execution_count": null,
      "outputs": [
        {
          "output_type": "execute_result",
          "data": {
            "text/plain": [
              "str"
            ]
          },
          "metadata": {},
          "execution_count": 8
        }
      ]
    },
    {
      "cell_type": "markdown",
      "source": [
        "Data Types"
      ],
      "metadata": {
        "id": "zInikCsqXZpr"
      }
    },
    {
      "cell_type": "code",
      "source": [
        "string_variable = 'string'\n",
        "integer_variable = 123\n",
        "float_variable = 12.31\n",
        "# boolean variable\n",
        "true_variable = True\n",
        "false_variable = False\n"
      ],
      "metadata": {
        "id": "1Q62ExutXMU4"
      },
      "execution_count": null,
      "outputs": []
    },
    {
      "cell_type": "code",
      "source": [
        "type_casting_variable_str = str(123)\n",
        "print(type(type_casting_variable_str))\n",
        "\n",
        "type_casting_variable_int = int('1234')\n",
        "print(type(type_casting_variable_int))\n",
        "\n",
        "type_casting_variable_float = float(123)\n",
        "print(type(type_casting_variable_float))\n",
        "\n",
        "type_casting_variable_boolean = bool(0)\n",
        "print(type(type_casting_variable_boolean))"
      ],
      "metadata": {
        "colab": {
          "base_uri": "https://localhost:8080/"
        },
        "id": "nJwvxlAkaEQu",
        "outputId": "bbda2bef-85dd-4fd4-e174-21fef9dbcad1"
      },
      "execution_count": null,
      "outputs": [
        {
          "output_type": "stream",
          "name": "stdout",
          "text": [
            "<class 'str'>\n",
            "<class 'int'>\n",
            "<class 'float'>\n",
            "<class 'bool'>\n"
          ]
        }
      ]
    },
    {
      "cell_type": "code",
      "source": [
        "# a = 123 + 'str' we cannot add operands of 2 different data types.\n",
        "# c = 'str' + True"
      ],
      "metadata": {
        "id": "NIc2610MrceQ"
      },
      "execution_count": null,
      "outputs": []
    },
    {
      "cell_type": "code",
      "source": [
        "b = 123 + 123.0\n",
        "print ( b )"
      ],
      "metadata": {
        "id": "Nfow1UOBsDq7",
        "outputId": "bb9039d5-34c1-46ff-808e-010985b052e7",
        "colab": {
          "base_uri": "https://localhost:8080/"
        }
      },
      "execution_count": null,
      "outputs": [
        {
          "output_type": "stream",
          "name": "stdout",
          "text": [
            "246.0\n"
          ]
        }
      ]
    },
    {
      "cell_type": "markdown",
      "source": [
        "**List**"
      ],
      "metadata": {
        "id": "Ec1A9PTOeC7W"
      }
    },
    {
      "cell_type": "code",
      "source": [
        "a = [10,'string',True,[],10.2]"
      ],
      "metadata": {
        "id": "TUQULwuXd5eN"
      },
      "execution_count": 2,
      "outputs": []
    },
    {
      "cell_type": "code",
      "source": [
        "a[0] = 20"
      ],
      "metadata": {
        "id": "NbeyCxOJfp9O"
      },
      "execution_count": 6,
      "outputs": []
    },
    {
      "cell_type": "code",
      "source": [
        "print( a )"
      ],
      "metadata": {
        "colab": {
          "base_uri": "https://localhost:8080/"
        },
        "id": "vag7vi-kgfnT",
        "outputId": "977c1b8b-800c-487e-de84-f7ba6ed6f6f4"
      },
      "execution_count": 7,
      "outputs": [
        {
          "output_type": "stream",
          "name": "stdout",
          "text": [
            "[20, 'string', True, [], 10.2]\n"
          ]
        }
      ]
    },
    {
      "cell_type": "markdown",
      "source": [
        "**Tuple** : Tuple is similar to list tuple is enclosed with '()' the difference between tuple and list is tuple is immutable that is it cannot be changed."
      ],
      "metadata": {
        "id": "9CsjEMbUepKn"
      }
    },
    {
      "cell_type": "code",
      "source": [
        "tuple_variable = (10,'string',True,[],10.2)\n",
        "print(tuple_variable)"
      ],
      "metadata": {
        "colab": {
          "base_uri": "https://localhost:8080/"
        },
        "id": "57Web5jOeoTr",
        "outputId": "1882e5c6-e65b-4024-c9a1-46cce39beaef"
      },
      "execution_count": 4,
      "outputs": [
        {
          "output_type": "stream",
          "name": "stdout",
          "text": [
            "(10, 'string', True, [], 10.2)\n"
          ]
        }
      ]
    },
    {
      "cell_type": "code",
      "source": [
        "tuple_variable[0] = 20"
      ],
      "metadata": {
        "colab": {
          "base_uri": "https://localhost:8080/",
          "height": 141
        },
        "id": "wyLu-c34mGBC",
        "outputId": "c670b8f3-168d-4e03-c2f2-7fa0cb12822a"
      },
      "execution_count": 9,
      "outputs": [
        {
          "output_type": "error",
          "ename": "TypeError",
          "evalue": "'tuple' object does not support item assignment",
          "traceback": [
            "\u001b[0;31m---------------------------------------------------------------------------\u001b[0m",
            "\u001b[0;31mTypeError\u001b[0m                                 Traceback (most recent call last)",
            "\u001b[0;32m/tmp/ipython-input-2167760116.py\u001b[0m in \u001b[0;36m<cell line: 0>\u001b[0;34m()\u001b[0m\n\u001b[0;32m----> 1\u001b[0;31m \u001b[0mtuple_variable\u001b[0m\u001b[0;34m[\u001b[0m\u001b[0;36m0\u001b[0m\u001b[0;34m]\u001b[0m \u001b[0;34m=\u001b[0m \u001b[0;36m20\u001b[0m\u001b[0;34m\u001b[0m\u001b[0;34m\u001b[0m\u001b[0m\n\u001b[0m",
            "\u001b[0;31mTypeError\u001b[0m: 'tuple' object does not support item assignment"
          ]
        }
      ]
    },
    {
      "cell_type": "markdown",
      "source": [
        "if you want to modify a tuple convert it to list change the values and convert it back to a tuple"
      ],
      "metadata": {
        "id": "Tjamsyr6mb0A"
      }
    },
    {
      "cell_type": "code",
      "source": [
        "tuple_example = (1,2,3,4,5)\n",
        "converted_to_list = list(tuple_example)\n",
        "converted_to_list[0] = 6\n",
        "converted_to_tuple = tuple(converted_to_list)\n",
        "print( converted_to_tuple )"
      ],
      "metadata": {
        "colab": {
          "base_uri": "https://localhost:8080/"
        },
        "id": "b5YdfkuZmljE",
        "outputId": "b377fe2f-d375-4801-946f-bc79321fdbd8"
      },
      "execution_count": 10,
      "outputs": [
        {
          "output_type": "stream",
          "name": "stdout",
          "text": [
            "(6, 2, 3, 4, 5)\n"
          ]
        }
      ]
    },
    {
      "cell_type": "markdown",
      "source": [
        "**Set**"
      ],
      "metadata": {
        "id": "GecvAYr1neuO"
      }
    },
    {
      "cell_type": "code",
      "source": [
        "set_variable = {10,'string',True,[],10.2}"
      ],
      "metadata": {
        "colab": {
          "base_uri": "https://localhost:8080/",
          "height": 141
        },
        "id": "P2cRUI6fnkkG",
        "outputId": "a9453a8d-1a82-4260-9396-fb44862f1910"
      },
      "execution_count": 11,
      "outputs": [
        {
          "output_type": "error",
          "ename": "TypeError",
          "evalue": "unhashable type: 'list'",
          "traceback": [
            "\u001b[0;31m---------------------------------------------------------------------------\u001b[0m",
            "\u001b[0;31mTypeError\u001b[0m                                 Traceback (most recent call last)",
            "\u001b[0;32m/tmp/ipython-input-3226405636.py\u001b[0m in \u001b[0;36m<cell line: 0>\u001b[0;34m()\u001b[0m\n\u001b[0;32m----> 1\u001b[0;31m \u001b[0mset_variable\u001b[0m \u001b[0;34m=\u001b[0m \u001b[0;34m{\u001b[0m\u001b[0;36m10\u001b[0m\u001b[0;34m,\u001b[0m\u001b[0;34m'string'\u001b[0m\u001b[0;34m,\u001b[0m\u001b[0;32mTrue\u001b[0m\u001b[0;34m,\u001b[0m\u001b[0;34m[\u001b[0m\u001b[0;34m]\u001b[0m\u001b[0;34m,\u001b[0m\u001b[0;36m10.2\u001b[0m\u001b[0;34m}\u001b[0m\u001b[0;34m\u001b[0m\u001b[0;34m\u001b[0m\u001b[0m\n\u001b[0m",
            "\u001b[0;31mTypeError\u001b[0m: unhashable type: 'list'"
          ]
        }
      ]
    },
    {
      "cell_type": "code",
      "source": [
        "set_example_1 = {1,2,3,4.5,6,'test',True}"
      ],
      "metadata": {
        "id": "9ceA062bnvnC"
      },
      "execution_count": 14,
      "outputs": []
    },
    {
      "cell_type": "markdown",
      "source": [
        "\n",
        "1.   Sets are immutable.\n",
        "2.   Sets cannot have same value.\n",
        "\n"
      ],
      "metadata": {
        "id": "nOU-c9kAoDXm"
      }
    },
    {
      "cell_type": "code",
      "source": [
        "set_example_2 = {1,2,3,4,1,2}\n",
        "print(set_example_2)"
      ],
      "metadata": {
        "colab": {
          "base_uri": "https://localhost:8080/"
        },
        "id": "g19i-udQn538",
        "outputId": "36a55654-5e04-4b2e-ad84-f9e4845c0654"
      },
      "execution_count": 15,
      "outputs": [
        {
          "output_type": "stream",
          "name": "stdout",
          "text": [
            "{1, 2, 3, 4}\n"
          ]
        }
      ]
    },
    {
      "cell_type": "code",
      "source": [
        "# Remove multiple values from the list\n",
        "list_example = [1,2,3,5,6,1,3,4,5]\n",
        "unique_values = list(set(list_example))\n",
        "print(unique_values)"
      ],
      "metadata": {
        "colab": {
          "base_uri": "https://localhost:8080/"
        },
        "id": "qcBsjRo_o3dA",
        "outputId": "8b43260e-2d49-41f1-85e7-b37685cf47d3"
      },
      "execution_count": 17,
      "outputs": [
        {
          "output_type": "stream",
          "name": "stdout",
          "text": [
            "[1, 2, 3, 4, 5, 6]\n"
          ]
        }
      ]
    },
    {
      "cell_type": "markdown",
      "source": [
        "**Dictionary** : they are mutable"
      ],
      "metadata": {
        "id": "oqMcDv-sqmVo"
      }
    },
    {
      "cell_type": "code",
      "source": [
        "dict_variable = {'a':'1','b':2,'c':3.0,'d':[1,2],'e':(1,2),'f':{1,2} }\n",
        "dict_variable['a']"
      ],
      "metadata": {
        "colab": {
          "base_uri": "https://localhost:8080/",
          "height": 35
        },
        "id": "wj0KClE4qrAQ",
        "outputId": "e43a1363-7c2e-4c56-99c3-3f3fe648cb22"
      },
      "execution_count": 20,
      "outputs": [
        {
          "output_type": "execute_result",
          "data": {
            "text/plain": [
              "'1'"
            ],
            "application/vnd.google.colaboratory.intrinsic+json": {
              "type": "string"
            }
          },
          "metadata": {},
          "execution_count": 20
        }
      ]
    },
    {
      "cell_type": "markdown",
      "source": [
        " **CRUD operations on a list**"
      ],
      "metadata": {
        "id": "vbnvcBwUsRe2"
      }
    },
    {
      "cell_type": "code",
      "source": [
        "# Create\n",
        "names = ['test','best','rest','nest']"
      ],
      "metadata": {
        "id": "euELUEjZsfBG"
      },
      "execution_count": 22,
      "outputs": []
    },
    {
      "cell_type": "code",
      "source": [
        "#Read\n",
        "print(names)\n",
        "print(names[-1])"
      ],
      "metadata": {
        "colab": {
          "base_uri": "https://localhost:8080/"
        },
        "id": "BdTO1ByGuQ4-",
        "outputId": "36536b70-560d-4c5c-c52f-d7937f03a4b9"
      },
      "execution_count": 23,
      "outputs": [
        {
          "output_type": "stream",
          "name": "stdout",
          "text": [
            "['test', 'best', 'rest', 'nest']\n",
            "nest\n"
          ]
        }
      ]
    },
    {
      "cell_type": "code",
      "source": [
        "len(names)"
      ],
      "metadata": {
        "colab": {
          "base_uri": "https://localhost:8080/"
        },
        "id": "FOrkZLiQuhPp",
        "outputId": "c355b732-7816-4b02-9273-fc236e974d23"
      },
      "execution_count": 24,
      "outputs": [
        {
          "output_type": "execute_result",
          "data": {
            "text/plain": [
              "4"
            ]
          },
          "metadata": {},
          "execution_count": 24
        }
      ]
    },
    {
      "cell_type": "code",
      "source": [
        "#Update\n",
        "names[0] ='chest'\n",
        "print(names)\n",
        "names.append('fest')\n",
        "print(names)\n",
        "names.insert(2,'test')\n",
        "print(names)"
      ],
      "metadata": {
        "colab": {
          "base_uri": "https://localhost:8080/"
        },
        "id": "xZG6m9nEunK-",
        "outputId": "2785c05e-ad99-47a7-ba9a-2783311d26fa"
      },
      "execution_count": 28,
      "outputs": [
        {
          "output_type": "stream",
          "name": "stdout",
          "text": [
            "['chest', 'best', 'rest', 'nest', 'fest']\n",
            "['chest', 'best', 'rest', 'nest', 'fest', 'fest']\n",
            "['chest', 'best', 'test', 'rest', 'nest', 'fest', 'fest']\n"
          ]
        }
      ]
    },
    {
      "cell_type": "code",
      "source": [
        "## to get the details of a particular function\n",
        "names.append??"
      ],
      "metadata": {
        "id": "qMGFguEivbfg"
      },
      "execution_count": 30,
      "outputs": []
    },
    {
      "cell_type": "code",
      "source": [
        "# Delete\n",
        "del names[-1]\n",
        "print(names)\n",
        "del names[2]\n",
        "print(names)"
      ],
      "metadata": {
        "colab": {
          "base_uri": "https://localhost:8080/"
        },
        "id": "uN7xe7YavkRw",
        "outputId": "d2d07f75-dcb9-4106-d659-af7b483c30ad"
      },
      "execution_count": 32,
      "outputs": [
        {
          "output_type": "stream",
          "name": "stdout",
          "text": [
            "['chest', 'best', 'test', 'rest', 'nest']\n",
            "['chest', 'best', 'rest', 'nest']\n"
          ]
        }
      ]
    },
    {
      "cell_type": "markdown",
      "source": [
        " **CRUD operations on a Dictionaries**"
      ],
      "metadata": {
        "id": "9Vkwhi00wB7m"
      }
    },
    {
      "cell_type": "code",
      "source": [
        "#Create\n",
        "dict_example = {'a':'1','b':2,'c':3.0,'d':[1,2],'e':(1,2),'f':{1,2} }"
      ],
      "metadata": {
        "id": "ewKu_jEGwAp0"
      },
      "execution_count": 33,
      "outputs": []
    },
    {
      "cell_type": "code",
      "source": [
        "# Read\n",
        "print(dict_example)\n",
        "print(dict_example['e'])\n",
        "print(dict_example.keys())\n",
        "print(dict_example.values())"
      ],
      "metadata": {
        "colab": {
          "base_uri": "https://localhost:8080/"
        },
        "id": "f9rnjov7wmGX",
        "outputId": "596f5aac-6675-44c3-c6f7-ad0a41c479a7"
      },
      "execution_count": 37,
      "outputs": [
        {
          "output_type": "stream",
          "name": "stdout",
          "text": [
            "{'a': '1', 'b': 2, 'c': 3.0, 'd': [1, 2], 'e': (1, 2), 'f': {1, 2}}\n",
            "(1, 2)\n",
            "dict_keys(['a', 'b', 'c', 'd', 'e', 'f'])\n",
            "dict_values(['1', 2, 3.0, [1, 2], (1, 2), {1, 2}])\n"
          ]
        }
      ]
    },
    {
      "cell_type": "code",
      "source": [
        "#Update\n",
        "dict_example['a'] = '2'\n",
        "print(dict_example)\n",
        "dict_example['g'] = {'0':'1'}\n",
        "print(dict_example)"
      ],
      "metadata": {
        "colab": {
          "base_uri": "https://localhost:8080/"
        },
        "id": "BrxHDdRfxEyZ",
        "outputId": "a0900462-10d6-4991-8df9-e4dedb0a6bb2"
      },
      "execution_count": 39,
      "outputs": [
        {
          "output_type": "stream",
          "name": "stdout",
          "text": [
            "{'a': '2', 'b': 2, 'c': 3.0, 'd': [1, 2], 'e': (1, 2), 'f': {1, 2}}\n",
            "{'a': '2', 'b': 2, 'c': 3.0, 'd': [1, 2], 'e': (1, 2), 'f': {1, 2}, 'g': {'0': '1'}}\n"
          ]
        }
      ]
    },
    {
      "cell_type": "code",
      "source": [
        "#Delete\n",
        "print(dict_example['d'])\n",
        "del dict_example[\"d\"]\n",
        "print(dict_example)"
      ],
      "metadata": {
        "colab": {
          "base_uri": "https://localhost:8080/"
        },
        "id": "cnEbuiYOxuFX",
        "outputId": "b97cb4e8-8576-4f9f-b854-70a091717f5c"
      },
      "execution_count": 45,
      "outputs": [
        {
          "output_type": "stream",
          "name": "stdout",
          "text": [
            "[1, 2]\n",
            "{'a': '2', 'b': 2, 'e': (1, 2), 'f': {1, 2}, 'g': {'0': '1'}}\n"
          ]
        }
      ]
    },
    {
      "cell_type": "markdown",
      "source": [
        "**Conditions**"
      ],
      "metadata": {
        "id": "YZbddPioy04o"
      }
    },
    {
      "cell_type": "code",
      "source": [
        "#if statement\n",
        "name = 10\n",
        "if name == 10:\n",
        "  print(\"hello\")\n",
        "name = '10'\n",
        "if name == 10:\n",
        "  print(\"hello 1\")\n",
        "if name == str(10):\n",
        "  print(\"hello 2\")\n",
        "if 0 == False:\n",
        "  print(\"hello 3\")"
      ],
      "metadata": {
        "colab": {
          "base_uri": "https://localhost:8080/"
        },
        "id": "uqDE-9pKy4Aj",
        "outputId": "6701a985-d698-462b-d571-c2c00128d52d"
      },
      "execution_count": 49,
      "outputs": [
        {
          "output_type": "stream",
          "name": "stdout",
          "text": [
            "hello\n",
            "hello 2\n",
            "hello 3\n"
          ]
        }
      ]
    },
    {
      "cell_type": "code",
      "source": [
        "test = 1\n",
        "if test == 1:\n",
        "  print('test')\n",
        "elif test == 2:\n",
        "  print('test1')\n",
        "else:\n",
        "  print('test3')"
      ],
      "metadata": {
        "colab": {
          "base_uri": "https://localhost:8080/"
        },
        "id": "DpXFA62-yzX9",
        "outputId": "f75d841c-6ca1-4506-a292-6cc4be2c6e9a"
      },
      "execution_count": 53,
      "outputs": [
        {
          "output_type": "stream",
          "name": "stdout",
          "text": [
            "test\n"
          ]
        }
      ]
    },
    {
      "cell_type": "code",
      "source": [
        "test_values = ['a','b','c']\n",
        "if 'a' in test_values:\n",
        "  print('a')\n",
        "elif 'm' in test_values:\n",
        "  print('m')\n",
        "else:\n",
        "   print('test')"
      ],
      "metadata": {
        "id": "NSDgYaVw3lpI",
        "outputId": "da5bb248-e680-41cf-bca6-d8b7c6ca230d",
        "colab": {
          "base_uri": "https://localhost:8080/"
        }
      },
      "execution_count": 56,
      "outputs": [
        {
          "output_type": "stream",
          "name": "stdout",
          "text": [
            "a\n"
          ]
        }
      ]
    },
    {
      "cell_type": "code",
      "source": [
        "#Escape statement\n",
        "print('Elon\\'s here')"
      ],
      "metadata": {
        "id": "cvH9bR5G4DCT",
        "outputId": "353ada2f-992b-49e8-dce2-71677607f5ce",
        "colab": {
          "base_uri": "https://localhost:8080/"
        }
      },
      "execution_count": 58,
      "outputs": [
        {
          "output_type": "stream",
          "name": "stdout",
          "text": [
            "Elon's here\n"
          ]
        }
      ]
    },
    {
      "cell_type": "markdown",
      "source": [
        "2: 15"
      ],
      "metadata": {
        "id": "h4-R40-P4WJd"
      }
    }
  ]
}