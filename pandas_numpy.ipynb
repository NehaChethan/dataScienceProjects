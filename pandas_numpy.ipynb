{
  "nbformat": 4,
  "nbformat_minor": 0,
  "metadata": {
    "colab": {
      "provenance": [],
      "authorship_tag": "ABX9TyMCbSmkP4tphdQ+JOEycJMo",
      "include_colab_link": true
    },
    "kernelspec": {
      "name": "python3",
      "display_name": "Python 3"
    },
    "language_info": {
      "name": "python"
    }
  },
  "cells": [
    {
      "cell_type": "markdown",
      "metadata": {
        "id": "view-in-github",
        "colab_type": "text"
      },
      "source": [
        "<a href=\"https://colab.research.google.com/github/NehaChethan/dataScienceProjects/blob/main/pandas_numpy.ipynb\" target=\"_parent\"><img src=\"https://colab.research.google.com/assets/colab-badge.svg\" alt=\"Open In Colab\"/></a>"
      ]
    },
    {
      "cell_type": "markdown",
      "source": [
        "#Pandas\n",
        "Pandas is an open-source Python library widely used for data manipulation and analysis. It provides powerful and flexible data structures, particularly Series and DataFrames, that make working with \"relational\" or \"labeled\" data intuitive and efficient.\n",
        "\n",
        "##Pandas/Python vs Excel\n",
        "  1. Excel can handle 1 million rows Pandas/Python can handle millions and millions of rows\n",
        "  2. Pandas/Python can handle complex data structure when compared to excel\n",
        "  3. Pandas/Python is good for automation where as excel is not automatable.\n",
        "  4. Pandas/Python has cross compatibility where as excel does not.\n",
        "\n",
        "### Arrays\n",
        "* 1D array : Series\n",
        "* 2D array: Dataframe\n",
        "\n",
        "###Dataframe\n",
        "  * A DataFrame in Python is a two-dimensional, labeled data structure provided by the pandas library. It is designed for data manipulation and analysis, resembling a table or spreadsheet with rows and columns.\n",
        "  * Index starts with 0\n",
        "  * Dataframe can store int,str,tuple etc\n",
        "  * column names are also known as Features\n",
        "  * Row values are also known as Observation\n",
        "  * We will get errors when we try to store different data types data in same column.\n",
        "  * Pandas vs Excel terminology\n",
        "    Excel                Pandas\n",
        "    Worksheet            Dataframe\n",
        "    Column               Series\n",
        "    Row heading          Index\n",
        "    Row                  Row\n",
        "    Empty Cell           Nan\n",
        "\n"
      ],
      "metadata": {
        "id": "u02w5luH-dcU"
      }
    },
    {
      "cell_type": "markdown",
      "source": [
        "#Creating a dataframe"
      ],
      "metadata": {
        "id": "ZC5n5Nb8CRiH"
      }
    },
    {
      "cell_type": "code",
      "execution_count": 3,
      "metadata": {
        "id": "nMl4PqFNIeq1"
      },
      "outputs": [],
      "source": [
        "import pandas as pd\n",
        "import numpy as np\n",
        "\n",
        "\n",
        "\n"
      ]
    },
    {
      "cell_type": "markdown",
      "source": [
        "# 1. Using Array"
      ],
      "metadata": {
        "id": "_s0lOZoGDJ5m"
      }
    },
    {
      "cell_type": "code",
      "source": [
        "#a. Numpy\n",
        "data = np.array([[1,4],[2,5],[3,6]]) # Each list represents a row"
      ],
      "metadata": {
        "id": "B01QZbIZDPtl"
      },
      "execution_count": 6,
      "outputs": []
    },
    {
      "cell_type": "code",
      "source": [
        "#b. Pandas\n",
        "pd.DataFrame(data)\n",
        "# 2. Using dictionaries\n",
        "  # dict = {'a':1} a refers to column name 1 refers to data\n",
        "# 3. CSV files"
      ],
      "metadata": {
        "id": "Ssn71XtTDZcu"
      },
      "execution_count": null,
      "outputs": []
    },
    {
      "cell_type": "markdown",
      "source": [],
      "metadata": {
        "id": "OGth8kwoMjaf"
      }
    }
  ]
}